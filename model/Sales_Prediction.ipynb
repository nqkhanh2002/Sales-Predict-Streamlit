{
  "cells": [
    {
      "attachments": {},
      "cell_type": "markdown",
      "metadata": {
        "id": "cLT4Me6rijxY"
      },
      "source": [
        "# Importing required libraries."
      ]
    },
    {
      "cell_type": "code",
      "execution_count": 2,
      "metadata": {
        "colab": {
          "base_uri": "https://localhost:8080/"
        },
        "id": "7Psc1k_zg5qX",
        "outputId": "0004cc52-bd12-413e-aac0-99ea2d08560a"
      },
      "outputs": [],
      "source": [
        "import pandas as pd\n",
        "import numpy as np\n",
        "from sklearn.preprocessing import LabelEncoder\n",
        "from sklearn.metrics import mean_squared_error\n",
        "from sklearn.metrics import accuracy_score\n",
        "from sklearn import tree\n",
        "# sales_data = pd.read_csv(\"df_final.csv\")"
      ]
    },
    {
      "attachments": {},
      "cell_type": "markdown",
      "metadata": {},
      "source": [
        "Files\n",
        "* train.csv - historical data including Sales\n",
        "* test.csv - historical data excluding Sales\n",
        "* store.csv - supplemental information about the stores\n",
        "\n",
        "We will combine 2 files train.csv and and store.csv under unique Id for each store"
      ]
    },
    {
      "cell_type": "code",
      "execution_count": 83,
      "metadata": {},
      "outputs": [],
      "source": [
        "# Đọc dữ liệu từ file train.csv\n",
        "train_data = pd.read_csv('../data/orginal_data/train.csv', low_memory=False)\n",
        "\n",
        "# Đọc dữ liệu từ file store.csv\n",
        "store_data = pd.read_csv('../data/orginal_data/store.csv', low_memory=False)\n",
        "\n",
        "# Gộp hai DataFrame theo cột 'store'\n",
        "merged_data = pd.merge(train_data, store_data, on='Store')\n",
        "\n",
        "# # Lưu dữ liệu đã gộp vào một tệp tin mới\n",
        "# merged_data.to_csv('../data/orginal_data/merged_data.csv', index=False)"
      ]
    },
    {
      "cell_type": "code",
      "execution_count": 84,
      "metadata": {},
      "outputs": [
        {
          "data": {
            "text/html": [
              "<div>\n",
              "<style scoped>\n",
              "    .dataframe tbody tr th:only-of-type {\n",
              "        vertical-align: middle;\n",
              "    }\n",
              "\n",
              "    .dataframe tbody tr th {\n",
              "        vertical-align: top;\n",
              "    }\n",
              "\n",
              "    .dataframe thead th {\n",
              "        text-align: right;\n",
              "    }\n",
              "</style>\n",
              "<table border=\"1\" class=\"dataframe\">\n",
              "  <thead>\n",
              "    <tr style=\"text-align: right;\">\n",
              "      <th></th>\n",
              "      <th>Store</th>\n",
              "      <th>DayOfWeek</th>\n",
              "      <th>Date</th>\n",
              "      <th>Sales</th>\n",
              "      <th>Customers</th>\n",
              "      <th>Open</th>\n",
              "      <th>Promo</th>\n",
              "      <th>StateHoliday</th>\n",
              "      <th>SchoolHoliday</th>\n",
              "    </tr>\n",
              "  </thead>\n",
              "  <tbody>\n",
              "    <tr>\n",
              "      <th>0</th>\n",
              "      <td>1</td>\n",
              "      <td>5</td>\n",
              "      <td>2015-07-31</td>\n",
              "      <td>5263</td>\n",
              "      <td>555</td>\n",
              "      <td>1</td>\n",
              "      <td>1</td>\n",
              "      <td>0</td>\n",
              "      <td>1</td>\n",
              "    </tr>\n",
              "    <tr>\n",
              "      <th>1</th>\n",
              "      <td>2</td>\n",
              "      <td>5</td>\n",
              "      <td>2015-07-31</td>\n",
              "      <td>6064</td>\n",
              "      <td>625</td>\n",
              "      <td>1</td>\n",
              "      <td>1</td>\n",
              "      <td>0</td>\n",
              "      <td>1</td>\n",
              "    </tr>\n",
              "    <tr>\n",
              "      <th>2</th>\n",
              "      <td>3</td>\n",
              "      <td>5</td>\n",
              "      <td>2015-07-31</td>\n",
              "      <td>8314</td>\n",
              "      <td>821</td>\n",
              "      <td>1</td>\n",
              "      <td>1</td>\n",
              "      <td>0</td>\n",
              "      <td>1</td>\n",
              "    </tr>\n",
              "    <tr>\n",
              "      <th>3</th>\n",
              "      <td>4</td>\n",
              "      <td>5</td>\n",
              "      <td>2015-07-31</td>\n",
              "      <td>13995</td>\n",
              "      <td>1498</td>\n",
              "      <td>1</td>\n",
              "      <td>1</td>\n",
              "      <td>0</td>\n",
              "      <td>1</td>\n",
              "    </tr>\n",
              "    <tr>\n",
              "      <th>4</th>\n",
              "      <td>5</td>\n",
              "      <td>5</td>\n",
              "      <td>2015-07-31</td>\n",
              "      <td>4822</td>\n",
              "      <td>559</td>\n",
              "      <td>1</td>\n",
              "      <td>1</td>\n",
              "      <td>0</td>\n",
              "      <td>1</td>\n",
              "    </tr>\n",
              "    <tr>\n",
              "      <th>...</th>\n",
              "      <td>...</td>\n",
              "      <td>...</td>\n",
              "      <td>...</td>\n",
              "      <td>...</td>\n",
              "      <td>...</td>\n",
              "      <td>...</td>\n",
              "      <td>...</td>\n",
              "      <td>...</td>\n",
              "      <td>...</td>\n",
              "    </tr>\n",
              "    <tr>\n",
              "      <th>1017204</th>\n",
              "      <td>1111</td>\n",
              "      <td>2</td>\n",
              "      <td>2013-01-01</td>\n",
              "      <td>0</td>\n",
              "      <td>0</td>\n",
              "      <td>0</td>\n",
              "      <td>0</td>\n",
              "      <td>a</td>\n",
              "      <td>1</td>\n",
              "    </tr>\n",
              "    <tr>\n",
              "      <th>1017205</th>\n",
              "      <td>1112</td>\n",
              "      <td>2</td>\n",
              "      <td>2013-01-01</td>\n",
              "      <td>0</td>\n",
              "      <td>0</td>\n",
              "      <td>0</td>\n",
              "      <td>0</td>\n",
              "      <td>a</td>\n",
              "      <td>1</td>\n",
              "    </tr>\n",
              "    <tr>\n",
              "      <th>1017206</th>\n",
              "      <td>1113</td>\n",
              "      <td>2</td>\n",
              "      <td>2013-01-01</td>\n",
              "      <td>0</td>\n",
              "      <td>0</td>\n",
              "      <td>0</td>\n",
              "      <td>0</td>\n",
              "      <td>a</td>\n",
              "      <td>1</td>\n",
              "    </tr>\n",
              "    <tr>\n",
              "      <th>1017207</th>\n",
              "      <td>1114</td>\n",
              "      <td>2</td>\n",
              "      <td>2013-01-01</td>\n",
              "      <td>0</td>\n",
              "      <td>0</td>\n",
              "      <td>0</td>\n",
              "      <td>0</td>\n",
              "      <td>a</td>\n",
              "      <td>1</td>\n",
              "    </tr>\n",
              "    <tr>\n",
              "      <th>1017208</th>\n",
              "      <td>1115</td>\n",
              "      <td>2</td>\n",
              "      <td>2013-01-01</td>\n",
              "      <td>0</td>\n",
              "      <td>0</td>\n",
              "      <td>0</td>\n",
              "      <td>0</td>\n",
              "      <td>a</td>\n",
              "      <td>1</td>\n",
              "    </tr>\n",
              "  </tbody>\n",
              "</table>\n",
              "<p>1017209 rows × 9 columns</p>\n",
              "</div>"
            ],
            "text/plain": [
              "         Store  DayOfWeek        Date  Sales  Customers  Open  Promo   \n",
              "0            1          5  2015-07-31   5263        555     1      1  \\\n",
              "1            2          5  2015-07-31   6064        625     1      1   \n",
              "2            3          5  2015-07-31   8314        821     1      1   \n",
              "3            4          5  2015-07-31  13995       1498     1      1   \n",
              "4            5          5  2015-07-31   4822        559     1      1   \n",
              "...        ...        ...         ...    ...        ...   ...    ...   \n",
              "1017204   1111          2  2013-01-01      0          0     0      0   \n",
              "1017205   1112          2  2013-01-01      0          0     0      0   \n",
              "1017206   1113          2  2013-01-01      0          0     0      0   \n",
              "1017207   1114          2  2013-01-01      0          0     0      0   \n",
              "1017208   1115          2  2013-01-01      0          0     0      0   \n",
              "\n",
              "        StateHoliday  SchoolHoliday  \n",
              "0                  0              1  \n",
              "1                  0              1  \n",
              "2                  0              1  \n",
              "3                  0              1  \n",
              "4                  0              1  \n",
              "...              ...            ...  \n",
              "1017204            a              1  \n",
              "1017205            a              1  \n",
              "1017206            a              1  \n",
              "1017207            a              1  \n",
              "1017208            a              1  \n",
              "\n",
              "[1017209 rows x 9 columns]"
            ]
          },
          "execution_count": 84,
          "metadata": {},
          "output_type": "execute_result"
        }
      ],
      "source": [
        "train_data"
      ]
    },
    {
      "cell_type": "code",
      "execution_count": 85,
      "metadata": {},
      "outputs": [
        {
          "name": "stdout",
          "output_type": "stream",
          "text": [
            "<class 'pandas.core.frame.DataFrame'>\n",
            "RangeIndex: 1017209 entries, 0 to 1017208\n",
            "Data columns (total 18 columns):\n",
            " #   Column                     Non-Null Count    Dtype  \n",
            "---  ------                     --------------    -----  \n",
            " 0   Store                      1017209 non-null  int64  \n",
            " 1   DayOfWeek                  1017209 non-null  int64  \n",
            " 2   Date                       1017209 non-null  object \n",
            " 3   Sales                      1017209 non-null  int64  \n",
            " 4   Customers                  1017209 non-null  int64  \n",
            " 5   Open                       1017209 non-null  int64  \n",
            " 6   Promo                      1017209 non-null  int64  \n",
            " 7   StateHoliday               1017209 non-null  object \n",
            " 8   SchoolHoliday              1017209 non-null  int64  \n",
            " 9   StoreType                  1017209 non-null  object \n",
            " 10  Assortment                 1017209 non-null  object \n",
            " 11  CompetitionDistance        1014567 non-null  float64\n",
            " 12  CompetitionOpenSinceMonth  693861 non-null   float64\n",
            " 13  CompetitionOpenSinceYear   693861 non-null   float64\n",
            " 14  Promo2                     1017209 non-null  int64  \n",
            " 15  Promo2SinceWeek            509178 non-null   float64\n",
            " 16  Promo2SinceYear            509178 non-null   float64\n",
            " 17  PromoInterval              509178 non-null   object \n",
            "dtypes: float64(5), int64(8), object(5)\n",
            "memory usage: 139.7+ MB\n"
          ]
        }
      ],
      "source": [
        "merged_data.info()"
      ]
    },
    {
      "attachments": {},
      "cell_type": "markdown",
      "metadata": {},
      "source": [
        "Split add a new column named DayOfWeekName from the column DayOfWeek in DataFrame merged_data"
      ]
    },
    {
      "cell_type": "code",
      "execution_count": 86,
      "metadata": {},
      "outputs": [],
      "source": [
        "# Tạo một từ điển ánh xạ giữa giá trị DayOfWeek và tên ngày tương ứng\n",
        "day_of_week_map = {1: 'Monday', 2: 'Tuesday', 3: 'Wednesday', 4: 'Thursday', 5: 'Friday', 6: 'Saturday', 7: 'Sunday'}\n",
        "\n",
        "# Tạo cột mới DayOfWeekName bằng cách ánh xạ giá trị từ cột DayOfWeek\n",
        "merged_data['DayOfWeekName'] = merged_data['DayOfWeek'].map(day_of_week_map)\n"
      ]
    },
    {
      "attachments": {},
      "cell_type": "markdown",
      "metadata": {},
      "source": [
        "Split one more column from merged_data column MonthName from column Date"
      ]
    },
    {
      "cell_type": "code",
      "execution_count": 87,
      "metadata": {},
      "outputs": [],
      "source": [
        "# Tạo một cột mới MonthName từ cột Date\n",
        "merged_data['MonthName'] = pd.to_datetime(merged_data['Date']).dt.strftime('%b')"
      ]
    },
    {
      "cell_type": "code",
      "execution_count": 88,
      "metadata": {},
      "outputs": [
        {
          "data": {
            "text/html": [
              "<div>\n",
              "<style scoped>\n",
              "    .dataframe tbody tr th:only-of-type {\n",
              "        vertical-align: middle;\n",
              "    }\n",
              "\n",
              "    .dataframe tbody tr th {\n",
              "        vertical-align: top;\n",
              "    }\n",
              "\n",
              "    .dataframe thead th {\n",
              "        text-align: right;\n",
              "    }\n",
              "</style>\n",
              "<table border=\"1\" class=\"dataframe\">\n",
              "  <thead>\n",
              "    <tr style=\"text-align: right;\">\n",
              "      <th></th>\n",
              "      <th>Store</th>\n",
              "      <th>DayOfWeek</th>\n",
              "      <th>Date</th>\n",
              "      <th>Sales</th>\n",
              "      <th>Customers</th>\n",
              "      <th>Open</th>\n",
              "      <th>Promo</th>\n",
              "      <th>StateHoliday</th>\n",
              "      <th>SchoolHoliday</th>\n",
              "      <th>StoreType</th>\n",
              "      <th>Assortment</th>\n",
              "      <th>CompetitionDistance</th>\n",
              "      <th>CompetitionOpenSinceMonth</th>\n",
              "      <th>CompetitionOpenSinceYear</th>\n",
              "      <th>Promo2</th>\n",
              "      <th>Promo2SinceWeek</th>\n",
              "      <th>Promo2SinceYear</th>\n",
              "      <th>PromoInterval</th>\n",
              "      <th>DayOfWeekName</th>\n",
              "      <th>MonthName</th>\n",
              "    </tr>\n",
              "  </thead>\n",
              "  <tbody>\n",
              "    <tr>\n",
              "      <th>0</th>\n",
              "      <td>1</td>\n",
              "      <td>5</td>\n",
              "      <td>2015-07-31</td>\n",
              "      <td>5263</td>\n",
              "      <td>555</td>\n",
              "      <td>1</td>\n",
              "      <td>1</td>\n",
              "      <td>0</td>\n",
              "      <td>1</td>\n",
              "      <td>c</td>\n",
              "      <td>a</td>\n",
              "      <td>1270.00</td>\n",
              "      <td>9.00</td>\n",
              "      <td>2008.00</td>\n",
              "      <td>0</td>\n",
              "      <td>NaN</td>\n",
              "      <td>NaN</td>\n",
              "      <td>NaN</td>\n",
              "      <td>Friday</td>\n",
              "      <td>Jul</td>\n",
              "    </tr>\n",
              "    <tr>\n",
              "      <th>1</th>\n",
              "      <td>1</td>\n",
              "      <td>4</td>\n",
              "      <td>2015-07-30</td>\n",
              "      <td>5020</td>\n",
              "      <td>546</td>\n",
              "      <td>1</td>\n",
              "      <td>1</td>\n",
              "      <td>0</td>\n",
              "      <td>1</td>\n",
              "      <td>c</td>\n",
              "      <td>a</td>\n",
              "      <td>1270.00</td>\n",
              "      <td>9.00</td>\n",
              "      <td>2008.00</td>\n",
              "      <td>0</td>\n",
              "      <td>NaN</td>\n",
              "      <td>NaN</td>\n",
              "      <td>NaN</td>\n",
              "      <td>Thursday</td>\n",
              "      <td>Jul</td>\n",
              "    </tr>\n",
              "    <tr>\n",
              "      <th>2</th>\n",
              "      <td>1</td>\n",
              "      <td>3</td>\n",
              "      <td>2015-07-29</td>\n",
              "      <td>4782</td>\n",
              "      <td>523</td>\n",
              "      <td>1</td>\n",
              "      <td>1</td>\n",
              "      <td>0</td>\n",
              "      <td>1</td>\n",
              "      <td>c</td>\n",
              "      <td>a</td>\n",
              "      <td>1270.00</td>\n",
              "      <td>9.00</td>\n",
              "      <td>2008.00</td>\n",
              "      <td>0</td>\n",
              "      <td>NaN</td>\n",
              "      <td>NaN</td>\n",
              "      <td>NaN</td>\n",
              "      <td>Wednesday</td>\n",
              "      <td>Jul</td>\n",
              "    </tr>\n",
              "    <tr>\n",
              "      <th>3</th>\n",
              "      <td>1</td>\n",
              "      <td>2</td>\n",
              "      <td>2015-07-28</td>\n",
              "      <td>5011</td>\n",
              "      <td>560</td>\n",
              "      <td>1</td>\n",
              "      <td>1</td>\n",
              "      <td>0</td>\n",
              "      <td>1</td>\n",
              "      <td>c</td>\n",
              "      <td>a</td>\n",
              "      <td>1270.00</td>\n",
              "      <td>9.00</td>\n",
              "      <td>2008.00</td>\n",
              "      <td>0</td>\n",
              "      <td>NaN</td>\n",
              "      <td>NaN</td>\n",
              "      <td>NaN</td>\n",
              "      <td>Tuesday</td>\n",
              "      <td>Jul</td>\n",
              "    </tr>\n",
              "    <tr>\n",
              "      <th>4</th>\n",
              "      <td>1</td>\n",
              "      <td>1</td>\n",
              "      <td>2015-07-27</td>\n",
              "      <td>6102</td>\n",
              "      <td>612</td>\n",
              "      <td>1</td>\n",
              "      <td>1</td>\n",
              "      <td>0</td>\n",
              "      <td>1</td>\n",
              "      <td>c</td>\n",
              "      <td>a</td>\n",
              "      <td>1270.00</td>\n",
              "      <td>9.00</td>\n",
              "      <td>2008.00</td>\n",
              "      <td>0</td>\n",
              "      <td>NaN</td>\n",
              "      <td>NaN</td>\n",
              "      <td>NaN</td>\n",
              "      <td>Monday</td>\n",
              "      <td>Jul</td>\n",
              "    </tr>\n",
              "  </tbody>\n",
              "</table>\n",
              "</div>"
            ],
            "text/plain": [
              "   Store  DayOfWeek        Date  Sales  Customers  Open  Promo StateHoliday   \n",
              "0      1          5  2015-07-31   5263        555     1      1            0  \\\n",
              "1      1          4  2015-07-30   5020        546     1      1            0   \n",
              "2      1          3  2015-07-29   4782        523     1      1            0   \n",
              "3      1          2  2015-07-28   5011        560     1      1            0   \n",
              "4      1          1  2015-07-27   6102        612     1      1            0   \n",
              "\n",
              "   SchoolHoliday StoreType Assortment  CompetitionDistance   \n",
              "0              1         c          a              1270.00  \\\n",
              "1              1         c          a              1270.00   \n",
              "2              1         c          a              1270.00   \n",
              "3              1         c          a              1270.00   \n",
              "4              1         c          a              1270.00   \n",
              "\n",
              "   CompetitionOpenSinceMonth  CompetitionOpenSinceYear  Promo2   \n",
              "0                       9.00                   2008.00       0  \\\n",
              "1                       9.00                   2008.00       0   \n",
              "2                       9.00                   2008.00       0   \n",
              "3                       9.00                   2008.00       0   \n",
              "4                       9.00                   2008.00       0   \n",
              "\n",
              "   Promo2SinceWeek  Promo2SinceYear PromoInterval DayOfWeekName MonthName  \n",
              "0              NaN              NaN           NaN        Friday       Jul  \n",
              "1              NaN              NaN           NaN      Thursday       Jul  \n",
              "2              NaN              NaN           NaN     Wednesday       Jul  \n",
              "3              NaN              NaN           NaN       Tuesday       Jul  \n",
              "4              NaN              NaN           NaN        Monday       Jul  "
            ]
          },
          "execution_count": 88,
          "metadata": {},
          "output_type": "execute_result"
        }
      ],
      "source": [
        "merged_data.head()"
      ]
    },
    {
      "cell_type": "code",
      "execution_count": 89,
      "metadata": {},
      "outputs": [
        {
          "data": {
            "text/html": [
              "<div>\n",
              "<style scoped>\n",
              "    .dataframe tbody tr th:only-of-type {\n",
              "        vertical-align: middle;\n",
              "    }\n",
              "\n",
              "    .dataframe tbody tr th {\n",
              "        vertical-align: top;\n",
              "    }\n",
              "\n",
              "    .dataframe thead th {\n",
              "        text-align: right;\n",
              "    }\n",
              "</style>\n",
              "<table border=\"1\" class=\"dataframe\">\n",
              "  <thead>\n",
              "    <tr style=\"text-align: right;\">\n",
              "      <th></th>\n",
              "      <th>Store</th>\n",
              "      <th>DayOfWeek</th>\n",
              "      <th>Sales</th>\n",
              "      <th>Customers</th>\n",
              "      <th>Open</th>\n",
              "      <th>Promo</th>\n",
              "      <th>SchoolHoliday</th>\n",
              "      <th>CompetitionDistance</th>\n",
              "      <th>CompetitionOpenSinceMonth</th>\n",
              "      <th>CompetitionOpenSinceYear</th>\n",
              "      <th>Promo2</th>\n",
              "      <th>Promo2SinceWeek</th>\n",
              "      <th>Promo2SinceYear</th>\n",
              "    </tr>\n",
              "  </thead>\n",
              "  <tbody>\n",
              "    <tr>\n",
              "      <th>count</th>\n",
              "      <td>1017209.00</td>\n",
              "      <td>1017209.00</td>\n",
              "      <td>1017209.00</td>\n",
              "      <td>1017209.00</td>\n",
              "      <td>1017209.00</td>\n",
              "      <td>1017209.00</td>\n",
              "      <td>1017209.00</td>\n",
              "      <td>1014567.00</td>\n",
              "      <td>693861.00</td>\n",
              "      <td>693861.00</td>\n",
              "      <td>1017209.00</td>\n",
              "      <td>509178.00</td>\n",
              "      <td>509178.00</td>\n",
              "    </tr>\n",
              "    <tr>\n",
              "      <th>mean</th>\n",
              "      <td>558.43</td>\n",
              "      <td>4.00</td>\n",
              "      <td>5773.82</td>\n",
              "      <td>633.15</td>\n",
              "      <td>0.83</td>\n",
              "      <td>0.38</td>\n",
              "      <td>0.18</td>\n",
              "      <td>5430.09</td>\n",
              "      <td>7.22</td>\n",
              "      <td>2008.69</td>\n",
              "      <td>0.50</td>\n",
              "      <td>23.27</td>\n",
              "      <td>2011.75</td>\n",
              "    </tr>\n",
              "    <tr>\n",
              "      <th>std</th>\n",
              "      <td>321.91</td>\n",
              "      <td>2.00</td>\n",
              "      <td>3849.93</td>\n",
              "      <td>464.41</td>\n",
              "      <td>0.38</td>\n",
              "      <td>0.49</td>\n",
              "      <td>0.38</td>\n",
              "      <td>7715.32</td>\n",
              "      <td>3.21</td>\n",
              "      <td>5.99</td>\n",
              "      <td>0.50</td>\n",
              "      <td>14.10</td>\n",
              "      <td>1.66</td>\n",
              "    </tr>\n",
              "    <tr>\n",
              "      <th>min</th>\n",
              "      <td>1.00</td>\n",
              "      <td>1.00</td>\n",
              "      <td>0.00</td>\n",
              "      <td>0.00</td>\n",
              "      <td>0.00</td>\n",
              "      <td>0.00</td>\n",
              "      <td>0.00</td>\n",
              "      <td>20.00</td>\n",
              "      <td>1.00</td>\n",
              "      <td>1900.00</td>\n",
              "      <td>0.00</td>\n",
              "      <td>1.00</td>\n",
              "      <td>2009.00</td>\n",
              "    </tr>\n",
              "    <tr>\n",
              "      <th>25%</th>\n",
              "      <td>280.00</td>\n",
              "      <td>2.00</td>\n",
              "      <td>3727.00</td>\n",
              "      <td>405.00</td>\n",
              "      <td>1.00</td>\n",
              "      <td>0.00</td>\n",
              "      <td>0.00</td>\n",
              "      <td>710.00</td>\n",
              "      <td>4.00</td>\n",
              "      <td>2006.00</td>\n",
              "      <td>0.00</td>\n",
              "      <td>13.00</td>\n",
              "      <td>2011.00</td>\n",
              "    </tr>\n",
              "    <tr>\n",
              "      <th>50%</th>\n",
              "      <td>558.00</td>\n",
              "      <td>4.00</td>\n",
              "      <td>5744.00</td>\n",
              "      <td>609.00</td>\n",
              "      <td>1.00</td>\n",
              "      <td>0.00</td>\n",
              "      <td>0.00</td>\n",
              "      <td>2330.00</td>\n",
              "      <td>8.00</td>\n",
              "      <td>2010.00</td>\n",
              "      <td>1.00</td>\n",
              "      <td>22.00</td>\n",
              "      <td>2012.00</td>\n",
              "    </tr>\n",
              "    <tr>\n",
              "      <th>75%</th>\n",
              "      <td>838.00</td>\n",
              "      <td>6.00</td>\n",
              "      <td>7856.00</td>\n",
              "      <td>837.00</td>\n",
              "      <td>1.00</td>\n",
              "      <td>1.00</td>\n",
              "      <td>0.00</td>\n",
              "      <td>6890.00</td>\n",
              "      <td>10.00</td>\n",
              "      <td>2013.00</td>\n",
              "      <td>1.00</td>\n",
              "      <td>37.00</td>\n",
              "      <td>2013.00</td>\n",
              "    </tr>\n",
              "    <tr>\n",
              "      <th>max</th>\n",
              "      <td>1115.00</td>\n",
              "      <td>7.00</td>\n",
              "      <td>41551.00</td>\n",
              "      <td>7388.00</td>\n",
              "      <td>1.00</td>\n",
              "      <td>1.00</td>\n",
              "      <td>1.00</td>\n",
              "      <td>75860.00</td>\n",
              "      <td>12.00</td>\n",
              "      <td>2015.00</td>\n",
              "      <td>1.00</td>\n",
              "      <td>50.00</td>\n",
              "      <td>2015.00</td>\n",
              "    </tr>\n",
              "  </tbody>\n",
              "</table>\n",
              "</div>"
            ],
            "text/plain": [
              "           Store  DayOfWeek      Sales  Customers       Open      Promo   \n",
              "count 1017209.00 1017209.00 1017209.00 1017209.00 1017209.00 1017209.00  \\\n",
              "mean      558.43       4.00    5773.82     633.15       0.83       0.38   \n",
              "std       321.91       2.00    3849.93     464.41       0.38       0.49   \n",
              "min         1.00       1.00       0.00       0.00       0.00       0.00   \n",
              "25%       280.00       2.00    3727.00     405.00       1.00       0.00   \n",
              "50%       558.00       4.00    5744.00     609.00       1.00       0.00   \n",
              "75%       838.00       6.00    7856.00     837.00       1.00       1.00   \n",
              "max      1115.00       7.00   41551.00    7388.00       1.00       1.00   \n",
              "\n",
              "       SchoolHoliday  CompetitionDistance  CompetitionOpenSinceMonth   \n",
              "count     1017209.00           1014567.00                  693861.00  \\\n",
              "mean            0.18              5430.09                       7.22   \n",
              "std             0.38              7715.32                       3.21   \n",
              "min             0.00                20.00                       1.00   \n",
              "25%             0.00               710.00                       4.00   \n",
              "50%             0.00              2330.00                       8.00   \n",
              "75%             0.00              6890.00                      10.00   \n",
              "max             1.00             75860.00                      12.00   \n",
              "\n",
              "       CompetitionOpenSinceYear     Promo2  Promo2SinceWeek  Promo2SinceYear  \n",
              "count                 693861.00 1017209.00        509178.00        509178.00  \n",
              "mean                    2008.69       0.50            23.27          2011.75  \n",
              "std                        5.99       0.50            14.10             1.66  \n",
              "min                     1900.00       0.00             1.00          2009.00  \n",
              "25%                     2006.00       0.00            13.00          2011.00  \n",
              "50%                     2010.00       1.00            22.00          2012.00  \n",
              "75%                     2013.00       1.00            37.00          2013.00  \n",
              "max                     2015.00       1.00            50.00          2015.00  "
            ]
          },
          "execution_count": 89,
          "metadata": {},
          "output_type": "execute_result"
        }
      ],
      "source": [
        "# Thiết lập tùy chọn hiển thị để giá trị là số thực\n",
        "pd.set_option('display.float_format', '{:.2f}'.format)\n",
        "merged_data.describe()"
      ]
    },
    {
      "cell_type": "code",
      "execution_count": 90,
      "metadata": {},
      "outputs": [
        {
          "data": {
            "text/html": [
              "<div>\n",
              "<style scoped>\n",
              "    .dataframe tbody tr th:only-of-type {\n",
              "        vertical-align: middle;\n",
              "    }\n",
              "\n",
              "    .dataframe tbody tr th {\n",
              "        vertical-align: top;\n",
              "    }\n",
              "\n",
              "    .dataframe thead th {\n",
              "        text-align: right;\n",
              "    }\n",
              "</style>\n",
              "<table border=\"1\" class=\"dataframe\">\n",
              "  <thead>\n",
              "    <tr style=\"text-align: right;\">\n",
              "      <th></th>\n",
              "      <th>Store</th>\n",
              "      <th>DayOfWeek</th>\n",
              "      <th>Date</th>\n",
              "      <th>Sales</th>\n",
              "      <th>Customers</th>\n",
              "      <th>Open</th>\n",
              "      <th>Promo</th>\n",
              "      <th>StateHoliday</th>\n",
              "      <th>SchoolHoliday</th>\n",
              "      <th>StoreType</th>\n",
              "      <th>Assortment</th>\n",
              "      <th>CompetitionDistance</th>\n",
              "      <th>CompetitionOpenSinceMonth</th>\n",
              "      <th>CompetitionOpenSinceYear</th>\n",
              "      <th>Promo2</th>\n",
              "      <th>Promo2SinceWeek</th>\n",
              "      <th>Promo2SinceYear</th>\n",
              "      <th>PromoInterval</th>\n",
              "      <th>DayOfWeekName</th>\n",
              "      <th>MonthName</th>\n",
              "    </tr>\n",
              "  </thead>\n",
              "  <tbody>\n",
              "    <tr>\n",
              "      <th>1017208</th>\n",
              "      <td>1115</td>\n",
              "      <td>2</td>\n",
              "      <td>2013-01-01</td>\n",
              "      <td>0</td>\n",
              "      <td>0</td>\n",
              "      <td>0</td>\n",
              "      <td>0</td>\n",
              "      <td>a</td>\n",
              "      <td>1</td>\n",
              "      <td>d</td>\n",
              "      <td>c</td>\n",
              "      <td>5350.00</td>\n",
              "      <td>NaN</td>\n",
              "      <td>NaN</td>\n",
              "      <td>1</td>\n",
              "      <td>22.00</td>\n",
              "      <td>2012.00</td>\n",
              "      <td>Mar,Jun,Sept,Dec</td>\n",
              "      <td>Tuesday</td>\n",
              "      <td>Jan</td>\n",
              "    </tr>\n",
              "    <tr>\n",
              "      <th>1016801</th>\n",
              "      <td>1115</td>\n",
              "      <td>3</td>\n",
              "      <td>2014-02-12</td>\n",
              "      <td>3982</td>\n",
              "      <td>319</td>\n",
              "      <td>1</td>\n",
              "      <td>0</td>\n",
              "      <td>0</td>\n",
              "      <td>0</td>\n",
              "      <td>d</td>\n",
              "      <td>c</td>\n",
              "      <td>5350.00</td>\n",
              "      <td>NaN</td>\n",
              "      <td>NaN</td>\n",
              "      <td>1</td>\n",
              "      <td>22.00</td>\n",
              "      <td>2012.00</td>\n",
              "      <td>Mar,Jun,Sept,Dec</td>\n",
              "      <td>Wednesday</td>\n",
              "      <td>Feb</td>\n",
              "    </tr>\n",
              "    <tr>\n",
              "      <th>1016979</th>\n",
              "      <td>1115</td>\n",
              "      <td>7</td>\n",
              "      <td>2013-08-18</td>\n",
              "      <td>0</td>\n",
              "      <td>0</td>\n",
              "      <td>0</td>\n",
              "      <td>0</td>\n",
              "      <td>0</td>\n",
              "      <td>0</td>\n",
              "      <td>d</td>\n",
              "      <td>c</td>\n",
              "      <td>5350.00</td>\n",
              "      <td>NaN</td>\n",
              "      <td>NaN</td>\n",
              "      <td>1</td>\n",
              "      <td>22.00</td>\n",
              "      <td>2012.00</td>\n",
              "      <td>Mar,Jun,Sept,Dec</td>\n",
              "      <td>Sunday</td>\n",
              "      <td>Aug</td>\n",
              "    </tr>\n",
              "    <tr>\n",
              "      <th>1016479</th>\n",
              "      <td>1115</td>\n",
              "      <td>3</td>\n",
              "      <td>2014-12-31</td>\n",
              "      <td>3847</td>\n",
              "      <td>290</td>\n",
              "      <td>1</td>\n",
              "      <td>0</td>\n",
              "      <td>0</td>\n",
              "      <td>1</td>\n",
              "      <td>d</td>\n",
              "      <td>c</td>\n",
              "      <td>5350.00</td>\n",
              "      <td>NaN</td>\n",
              "      <td>NaN</td>\n",
              "      <td>1</td>\n",
              "      <td>22.00</td>\n",
              "      <td>2012.00</td>\n",
              "      <td>Mar,Jun,Sept,Dec</td>\n",
              "      <td>Wednesday</td>\n",
              "      <td>Dec</td>\n",
              "    </tr>\n",
              "    <tr>\n",
              "      <th>1016745</th>\n",
              "      <td>1115</td>\n",
              "      <td>3</td>\n",
              "      <td>2014-04-09</td>\n",
              "      <td>4531</td>\n",
              "      <td>322</td>\n",
              "      <td>1</td>\n",
              "      <td>0</td>\n",
              "      <td>0</td>\n",
              "      <td>0</td>\n",
              "      <td>d</td>\n",
              "      <td>c</td>\n",
              "      <td>5350.00</td>\n",
              "      <td>NaN</td>\n",
              "      <td>NaN</td>\n",
              "      <td>1</td>\n",
              "      <td>22.00</td>\n",
              "      <td>2012.00</td>\n",
              "      <td>Mar,Jun,Sept,Dec</td>\n",
              "      <td>Wednesday</td>\n",
              "      <td>Apr</td>\n",
              "    </tr>\n",
              "  </tbody>\n",
              "</table>\n",
              "</div>"
            ],
            "text/plain": [
              "         Store  DayOfWeek        Date  Sales  Customers  Open  Promo   \n",
              "1017208   1115          2  2013-01-01      0          0     0      0  \\\n",
              "1016801   1115          3  2014-02-12   3982        319     1      0   \n",
              "1016979   1115          7  2013-08-18      0          0     0      0   \n",
              "1016479   1115          3  2014-12-31   3847        290     1      0   \n",
              "1016745   1115          3  2014-04-09   4531        322     1      0   \n",
              "\n",
              "        StateHoliday  SchoolHoliday StoreType Assortment  CompetitionDistance   \n",
              "1017208            a              1         d          c              5350.00  \\\n",
              "1016801            0              0         d          c              5350.00   \n",
              "1016979            0              0         d          c              5350.00   \n",
              "1016479            0              1         d          c              5350.00   \n",
              "1016745            0              0         d          c              5350.00   \n",
              "\n",
              "         CompetitionOpenSinceMonth  CompetitionOpenSinceYear  Promo2   \n",
              "1017208                        NaN                       NaN       1  \\\n",
              "1016801                        NaN                       NaN       1   \n",
              "1016979                        NaN                       NaN       1   \n",
              "1016479                        NaN                       NaN       1   \n",
              "1016745                        NaN                       NaN       1   \n",
              "\n",
              "         Promo2SinceWeek  Promo2SinceYear     PromoInterval DayOfWeekName   \n",
              "1017208            22.00          2012.00  Mar,Jun,Sept,Dec       Tuesday  \\\n",
              "1016801            22.00          2012.00  Mar,Jun,Sept,Dec     Wednesday   \n",
              "1016979            22.00          2012.00  Mar,Jun,Sept,Dec        Sunday   \n",
              "1016479            22.00          2012.00  Mar,Jun,Sept,Dec     Wednesday   \n",
              "1016745            22.00          2012.00  Mar,Jun,Sept,Dec     Wednesday   \n",
              "\n",
              "        MonthName  \n",
              "1017208       Jan  \n",
              "1016801       Feb  \n",
              "1016979       Aug  \n",
              "1016479       Dec  \n",
              "1016745       Apr  "
            ]
          },
          "execution_count": 90,
          "metadata": {},
          "output_type": "execute_result"
        }
      ],
      "source": [
        "# Sắp xếp DataFrame theo cột Date\n",
        "sorted_merged_data = merged_data.sort_values('Date')\n",
        "# Sắp xếp DataFrame theo cột id theo thứ tự giảm dần\n",
        "sorted_merged_data = sorted_merged_data.sort_values('Store', ascending=False)\n",
        "sorted_merged_data.head()"
      ]
    },
    {
      "cell_type": "code",
      "execution_count": 91,
      "metadata": {},
      "outputs": [
        {
          "name": "stdout",
          "output_type": "stream",
          "text": [
            "<class 'pandas.core.frame.DataFrame'>\n",
            "Index: 1017209 entries, 1017208 to 0\n",
            "Data columns (total 20 columns):\n",
            " #   Column                     Non-Null Count    Dtype  \n",
            "---  ------                     --------------    -----  \n",
            " 0   Store                      1017209 non-null  int64  \n",
            " 1   DayOfWeek                  1017209 non-null  int64  \n",
            " 2   Date                       1017209 non-null  object \n",
            " 3   Sales                      1017209 non-null  int64  \n",
            " 4   Customers                  1017209 non-null  int64  \n",
            " 5   Open                       1017209 non-null  int64  \n",
            " 6   Promo                      1017209 non-null  int64  \n",
            " 7   StateHoliday               1017209 non-null  object \n",
            " 8   SchoolHoliday              1017209 non-null  int64  \n",
            " 9   StoreType                  1017209 non-null  object \n",
            " 10  Assortment                 1017209 non-null  object \n",
            " 11  CompetitionDistance        1014567 non-null  float64\n",
            " 12  CompetitionOpenSinceMonth  693861 non-null   float64\n",
            " 13  CompetitionOpenSinceYear   693861 non-null   float64\n",
            " 14  Promo2                     1017209 non-null  int64  \n",
            " 15  Promo2SinceWeek            509178 non-null   float64\n",
            " 16  Promo2SinceYear            509178 non-null   float64\n",
            " 17  PromoInterval              509178 non-null   object \n",
            " 18  DayOfWeekName              1017209 non-null  object \n",
            " 19  MonthName                  1017209 non-null  object \n",
            "dtypes: float64(5), int64(8), object(7)\n",
            "memory usage: 163.0+ MB\n"
          ]
        }
      ],
      "source": [
        "sorted_merged_data.info()"
      ]
    },
    {
      "attachments": {},
      "cell_type": "markdown",
      "metadata": {
        "id": "9s2J6ygviw1B"
      },
      "source": [
        "# Cleaning dataset."
      ]
    },
    {
      "cell_type": "code",
      "execution_count": 92,
      "metadata": {},
      "outputs": [],
      "source": [
        "sales_data = sorted_merged_data"
      ]
    },
    {
      "cell_type": "code",
      "execution_count": 93,
      "metadata": {
        "colab": {
          "base_uri": "https://localhost:8080/"
        },
        "id": "-YUbr9YeiTfB",
        "outputId": "3d333951-6c52-4ec4-defa-0b54a39baa4d"
      },
      "outputs": [
        {
          "data": {
            "text/plain": [
              "Store                             0\n",
              "DayOfWeek                         0\n",
              "Date                              0\n",
              "Sales                             0\n",
              "Customers                         0\n",
              "Open                              0\n",
              "Promo                             0\n",
              "StateHoliday                      0\n",
              "SchoolHoliday                     0\n",
              "StoreType                         0\n",
              "Assortment                        0\n",
              "CompetitionDistance            2642\n",
              "CompetitionOpenSinceMonth    323348\n",
              "CompetitionOpenSinceYear     323348\n",
              "Promo2                            0\n",
              "Promo2SinceWeek              508031\n",
              "Promo2SinceYear              508031\n",
              "PromoInterval                508031\n",
              "DayOfWeekName                     0\n",
              "MonthName                         0\n",
              "dtype: int64"
            ]
          },
          "execution_count": 93,
          "metadata": {},
          "output_type": "execute_result"
        }
      ],
      "source": [
        "sales_data.isnull().sum()"
      ]
    },
    {
      "cell_type": "code",
      "execution_count": 20,
      "metadata": {
        "colab": {
          "base_uri": "https://localhost:8080/"
        },
        "id": "iRt2CQdeizE5",
        "outputId": "b7713a2c-7e6e-4458-b7bb-80ecfad93e6b"
      },
      "outputs": [
        {
          "data": {
            "text/plain": [
              "['Date',\n",
              " 'StateHoliday',\n",
              " 'StoreType',\n",
              " 'Assortment',\n",
              " 'PromoInterval',\n",
              " 'DayOfWeekName']"
            ]
          },
          "execution_count": 20,
          "metadata": {},
          "output_type": "execute_result"
        }
      ],
      "source": [
        "cat_col = []\n",
        "for x in sales_data.dtypes.index:\n",
        "  if sales_data.dtypes[x] == 'object':\n",
        "    cat_col.append(x)\n",
        "cat_col"
      ]
    },
    {
      "cell_type": "code",
      "execution_count": 21,
      "metadata": {
        "colab": {
          "base_uri": "https://localhost:8080/"
        },
        "id": "SmKxcVpGkRLI",
        "outputId": "0abc98d3-5a75-4e88-b225-d7f708904bfa"
      },
      "outputs": [
        {
          "data": {
            "text/plain": [
              "['StateHoliday', 'StoreType', 'Assortment', 'PromoInterval']"
            ]
          },
          "execution_count": 21,
          "metadata": {},
          "output_type": "execute_result"
        }
      ],
      "source": [
        "cat_col.remove('DayOfWeekName')\n",
        "cat_col.remove('Date')\n",
        "cat_col"
      ]
    },
    {
      "cell_type": "code",
      "execution_count": 22,
      "metadata": {
        "colab": {
          "base_uri": "https://localhost:8080/"
        },
        "id": "XlWAFDVBk0VN",
        "outputId": "391c76f4-3258-42cb-aa08-8af5d95b4aac"
      },
      "outputs": [
        {
          "name": "stdout",
          "output_type": "stream",
          "text": [
            "StateHoliday\n",
            "StateHoliday\n",
            "0    986159\n",
            "a     20260\n",
            "b      6690\n",
            "c      4100\n",
            "Name: count, dtype: int64\n",
            "\n",
            "StoreType\n",
            "StoreType\n",
            "a    551627\n",
            "d    312912\n",
            "c    136840\n",
            "b     15830\n",
            "Name: count, dtype: int64\n",
            "\n",
            "Assortment\n",
            "Assortment\n",
            "a    537445\n",
            "c    471470\n",
            "b      8294\n",
            "Name: count, dtype: int64\n",
            "\n",
            "PromoInterval\n",
            "PromoInterval\n",
            "Jan,Apr,Jul,Oct     585023\n",
            "Feb,May,Aug,Nov     246340\n",
            "Mar,Jun,Sept,Dec    185846\n",
            "Name: count, dtype: int64\n",
            "\n"
          ]
        }
      ],
      "source": [
        "for col in cat_col:\n",
        "  print(col)\n",
        "  print(sales_data[col].value_counts())\n",
        "  print()"
      ]
    },
    {
      "attachments": {},
      "cell_type": "markdown",
      "metadata": {
        "id": "I7b2T5QHjpup"
      },
      "source": [
        "# Filling null values\n"
      ]
    },
    {
      "cell_type": "code",
      "execution_count": 23,
      "metadata": {
        "colab": {
          "base_uri": "https://localhost:8080/",
          "height": 309
        },
        "id": "SaX1t4XClWHA",
        "outputId": "da05af85-58b4-4db2-adbc-16c98a3f8342"
      },
      "outputs": [
        {
          "data": {
            "text/html": [
              "<div>\n",
              "<style scoped>\n",
              "    .dataframe tbody tr th:only-of-type {\n",
              "        vertical-align: middle;\n",
              "    }\n",
              "\n",
              "    .dataframe tbody tr th {\n",
              "        vertical-align: top;\n",
              "    }\n",
              "\n",
              "    .dataframe thead th {\n",
              "        text-align: right;\n",
              "    }\n",
              "</style>\n",
              "<table border=\"1\" class=\"dataframe\">\n",
              "  <thead>\n",
              "    <tr style=\"text-align: right;\">\n",
              "      <th></th>\n",
              "      <th>Store</th>\n",
              "      <th>DayOfWeek</th>\n",
              "      <th>Date</th>\n",
              "      <th>Sales</th>\n",
              "      <th>Customers</th>\n",
              "      <th>Open</th>\n",
              "      <th>Promo</th>\n",
              "      <th>StateHoliday</th>\n",
              "      <th>SchoolHoliday</th>\n",
              "      <th>StoreType</th>\n",
              "      <th>Assortment</th>\n",
              "      <th>CompetitionDistance</th>\n",
              "      <th>CompetitionOpenSinceMonth</th>\n",
              "      <th>CompetitionOpenSinceYear</th>\n",
              "      <th>Promo2</th>\n",
              "      <th>Promo2SinceWeek</th>\n",
              "      <th>Promo2SinceYear</th>\n",
              "      <th>PromoInterval</th>\n",
              "      <th>DayOfWeekName</th>\n",
              "      <th>MonthName</th>\n",
              "    </tr>\n",
              "  </thead>\n",
              "  <tbody>\n",
              "    <tr>\n",
              "      <th>0</th>\n",
              "      <td>1115</td>\n",
              "      <td>2</td>\n",
              "      <td>2013-01-01</td>\n",
              "      <td>0</td>\n",
              "      <td>0</td>\n",
              "      <td>0</td>\n",
              "      <td>0</td>\n",
              "      <td>a</td>\n",
              "      <td>1</td>\n",
              "      <td>d</td>\n",
              "      <td>c</td>\n",
              "      <td>5350.0</td>\n",
              "      <td>4.0</td>\n",
              "      <td>2006.0</td>\n",
              "      <td>1</td>\n",
              "      <td>22.0</td>\n",
              "      <td>2012.0</td>\n",
              "      <td>Mar,Jun,Sept,Dec</td>\n",
              "      <td>Tuesday</td>\n",
              "      <td>6</td>\n",
              "    </tr>\n",
              "    <tr>\n",
              "      <th>1</th>\n",
              "      <td>1115</td>\n",
              "      <td>3</td>\n",
              "      <td>2014-02-12</td>\n",
              "      <td>3982</td>\n",
              "      <td>319</td>\n",
              "      <td>1</td>\n",
              "      <td>0</td>\n",
              "      <td>0</td>\n",
              "      <td>0</td>\n",
              "      <td>d</td>\n",
              "      <td>c</td>\n",
              "      <td>5350.0</td>\n",
              "      <td>4.0</td>\n",
              "      <td>2006.0</td>\n",
              "      <td>1</td>\n",
              "      <td>22.0</td>\n",
              "      <td>2012.0</td>\n",
              "      <td>Mar,Jun,Sept,Dec</td>\n",
              "      <td>Wednesday</td>\n",
              "      <td>5</td>\n",
              "    </tr>\n",
              "    <tr>\n",
              "      <th>2</th>\n",
              "      <td>1115</td>\n",
              "      <td>7</td>\n",
              "      <td>2013-08-18</td>\n",
              "      <td>0</td>\n",
              "      <td>0</td>\n",
              "      <td>0</td>\n",
              "      <td>0</td>\n",
              "      <td>0</td>\n",
              "      <td>0</td>\n",
              "      <td>d</td>\n",
              "      <td>c</td>\n",
              "      <td>5350.0</td>\n",
              "      <td>4.0</td>\n",
              "      <td>2006.0</td>\n",
              "      <td>1</td>\n",
              "      <td>22.0</td>\n",
              "      <td>2012.0</td>\n",
              "      <td>Mar,Jun,Sept,Dec</td>\n",
              "      <td>Sunday</td>\n",
              "      <td>1</td>\n",
              "    </tr>\n",
              "    <tr>\n",
              "      <th>3</th>\n",
              "      <td>1115</td>\n",
              "      <td>3</td>\n",
              "      <td>2014-12-31</td>\n",
              "      <td>3847</td>\n",
              "      <td>290</td>\n",
              "      <td>1</td>\n",
              "      <td>0</td>\n",
              "      <td>0</td>\n",
              "      <td>1</td>\n",
              "      <td>d</td>\n",
              "      <td>c</td>\n",
              "      <td>5350.0</td>\n",
              "      <td>4.0</td>\n",
              "      <td>2006.0</td>\n",
              "      <td>1</td>\n",
              "      <td>22.0</td>\n",
              "      <td>2012.0</td>\n",
              "      <td>Mar,Jun,Sept,Dec</td>\n",
              "      <td>Wednesday</td>\n",
              "      <td>4</td>\n",
              "    </tr>\n",
              "    <tr>\n",
              "      <th>4</th>\n",
              "      <td>1115</td>\n",
              "      <td>3</td>\n",
              "      <td>2014-04-09</td>\n",
              "      <td>4531</td>\n",
              "      <td>322</td>\n",
              "      <td>1</td>\n",
              "      <td>0</td>\n",
              "      <td>0</td>\n",
              "      <td>0</td>\n",
              "      <td>d</td>\n",
              "      <td>c</td>\n",
              "      <td>5350.0</td>\n",
              "      <td>4.0</td>\n",
              "      <td>2006.0</td>\n",
              "      <td>1</td>\n",
              "      <td>22.0</td>\n",
              "      <td>2012.0</td>\n",
              "      <td>Mar,Jun,Sept,Dec</td>\n",
              "      <td>Wednesday</td>\n",
              "      <td>0</td>\n",
              "    </tr>\n",
              "  </tbody>\n",
              "</table>\n",
              "</div>"
            ],
            "text/plain": [
              "   Store  DayOfWeek        Date  Sales  Customers  Open  Promo StateHoliday  \\\n",
              "0   1115          2  2013-01-01      0          0     0      0            a   \n",
              "1   1115          3  2014-02-12   3982        319     1      0            0   \n",
              "2   1115          7  2013-08-18      0          0     0      0            0   \n",
              "3   1115          3  2014-12-31   3847        290     1      0            0   \n",
              "4   1115          3  2014-04-09   4531        322     1      0            0   \n",
              "\n",
              "   SchoolHoliday StoreType Assortment  CompetitionDistance  \\\n",
              "0              1         d          c               5350.0   \n",
              "1              0         d          c               5350.0   \n",
              "2              0         d          c               5350.0   \n",
              "3              1         d          c               5350.0   \n",
              "4              0         d          c               5350.0   \n",
              "\n",
              "   CompetitionOpenSinceMonth  CompetitionOpenSinceYear  Promo2  \\\n",
              "0                        4.0                    2006.0       1   \n",
              "1                        4.0                    2006.0       1   \n",
              "2                        4.0                    2006.0       1   \n",
              "3                        4.0                    2006.0       1   \n",
              "4                        4.0                    2006.0       1   \n",
              "\n",
              "   Promo2SinceWeek  Promo2SinceYear     PromoInterval DayOfWeekName  MonthName  \n",
              "0             22.0           2012.0  Mar,Jun,Sept,Dec       Tuesday          6  \n",
              "1             22.0           2012.0  Mar,Jun,Sept,Dec     Wednesday          5  \n",
              "2             22.0           2012.0  Mar,Jun,Sept,Dec        Sunday          1  \n",
              "3             22.0           2012.0  Mar,Jun,Sept,Dec     Wednesday          4  \n",
              "4             22.0           2012.0  Mar,Jun,Sept,Dec     Wednesday          0  "
            ]
          },
          "execution_count": 23,
          "metadata": {},
          "output_type": "execute_result"
        }
      ],
      "source": [
        "sales_data['CompetitionOpenSinceMonth'] = sales_data['CompetitionOpenSinceMonth'].fillna(method='ffill').fillna(method='bfill')\n",
        "sales_data['CompetitionOpenSinceYear'] = sales_data['CompetitionOpenSinceYear'].fillna(method='ffill').fillna(method='bfill')\n",
        "sales_data['CompetitionDistance'] = sales_data['CompetitionDistance'].fillna(method='ffill').fillna(method='bfill')\n",
        "sales_data['Promo2SinceWeek'] = sales_data['Promo2SinceWeek'].fillna(method='ffill').fillna(method='bfill')\n",
        "sales_data['Promo2SinceYear'] = sales_data['Promo2SinceYear'].fillna(method='ffill').fillna(method='bfill')\n",
        "sales_data['PromoInterval'] = sales_data['PromoInterval'].fillna(method='ffill').fillna(method='bfill')\n",
        "sales_data.isnull().sum()\n",
        "sales_data.head()"
      ]
    },
    {
      "cell_type": "code",
      "execution_count": 24,
      "metadata": {},
      "outputs": [
        {
          "data": {
            "text/plain": [
              "Store                        0\n",
              "DayOfWeek                    0\n",
              "Date                         0\n",
              "Sales                        0\n",
              "Customers                    0\n",
              "Open                         0\n",
              "Promo                        0\n",
              "StateHoliday                 0\n",
              "SchoolHoliday                0\n",
              "StoreType                    0\n",
              "Assortment                   0\n",
              "CompetitionDistance          0\n",
              "CompetitionOpenSinceMonth    0\n",
              "CompetitionOpenSinceYear     0\n",
              "Promo2                       0\n",
              "Promo2SinceWeek              0\n",
              "Promo2SinceYear              0\n",
              "PromoInterval                0\n",
              "DayOfWeekName                0\n",
              "MonthName                    0\n",
              "dtype: int64"
            ]
          },
          "execution_count": 24,
          "metadata": {},
          "output_type": "execute_result"
        }
      ],
      "source": [
        "sales_data.isnull().sum()"
      ]
    },
    {
      "cell_type": "code",
      "execution_count": null,
      "metadata": {},
      "outputs": [],
      "source": [
        "# Lưu dữ liệu đã gộp vào một tệp tin mới\n",
        "sales_data.to_csv('../data/df_final.csv', index=False)"
      ]
    },
    {
      "cell_type": "code",
      "execution_count": 6,
      "metadata": {},
      "outputs": [],
      "source": [
        "import pandas as pd\n",
        "sales_data = pd.read_csv('../data/df_final.csv', low_memory=False)"
      ]
    },
    {
      "attachments": {},
      "cell_type": "markdown",
      "metadata": {
        "id": "0KyBkBXVj4fM"
      },
      "source": [
        "# Transforming categorical data."
      ]
    },
    {
      "cell_type": "code",
      "execution_count": 25,
      "metadata": {
        "id": "MXNktC15pNr4"
      },
      "outputs": [],
      "source": [
        "le = LabelEncoder()\n",
        "sales_data['MonthName'] = le.fit_transform(sales_data['MonthName'].astype(str))\n",
        "for col in cat_col:\n",
        "    sales_data[col] = le.fit_transform(sales_data[col].astype(str))\n",
        "sales_data['DayOfWeekName'] = le.fit_transform(sales_data['DayOfWeekName'].astype(str))"
      ]
    },
    {
      "cell_type": "code",
      "execution_count": 26,
      "metadata": {},
      "outputs": [],
      "source": [
        "# Lưu dữ liệu đã gộp vào một tệp tin mới\n",
        "sales_data.to_csv('../data/df_final.csv', index=False)"
      ]
    },
    {
      "cell_type": "code",
      "execution_count": 27,
      "metadata": {
        "colab": {
          "base_uri": "https://localhost:8080/",
          "height": 309
        },
        "id": "i4cNh0NcPbXL",
        "outputId": "2f8bdae1-9270-4cfd-c282-881d512f53fc"
      },
      "outputs": [
        {
          "data": {
            "text/html": [
              "<div>\n",
              "<style scoped>\n",
              "    .dataframe tbody tr th:only-of-type {\n",
              "        vertical-align: middle;\n",
              "    }\n",
              "\n",
              "    .dataframe tbody tr th {\n",
              "        vertical-align: top;\n",
              "    }\n",
              "\n",
              "    .dataframe thead th {\n",
              "        text-align: right;\n",
              "    }\n",
              "</style>\n",
              "<table border=\"1\" class=\"dataframe\">\n",
              "  <thead>\n",
              "    <tr style=\"text-align: right;\">\n",
              "      <th></th>\n",
              "      <th>Store</th>\n",
              "      <th>DayOfWeek</th>\n",
              "      <th>Date</th>\n",
              "      <th>Sales</th>\n",
              "      <th>Customers</th>\n",
              "      <th>Open</th>\n",
              "      <th>Promo</th>\n",
              "      <th>StateHoliday</th>\n",
              "      <th>SchoolHoliday</th>\n",
              "      <th>StoreType</th>\n",
              "      <th>Assortment</th>\n",
              "      <th>CompetitionDistance</th>\n",
              "      <th>CompetitionOpenSinceMonth</th>\n",
              "      <th>CompetitionOpenSinceYear</th>\n",
              "      <th>Promo2</th>\n",
              "      <th>Promo2SinceWeek</th>\n",
              "      <th>Promo2SinceYear</th>\n",
              "      <th>PromoInterval</th>\n",
              "      <th>DayOfWeekName</th>\n",
              "      <th>MonthName</th>\n",
              "    </tr>\n",
              "  </thead>\n",
              "  <tbody>\n",
              "    <tr>\n",
              "      <th>0</th>\n",
              "      <td>1115</td>\n",
              "      <td>2</td>\n",
              "      <td>2013-01-01</td>\n",
              "      <td>0</td>\n",
              "      <td>0</td>\n",
              "      <td>0</td>\n",
              "      <td>0</td>\n",
              "      <td>1</td>\n",
              "      <td>1</td>\n",
              "      <td>3</td>\n",
              "      <td>2</td>\n",
              "      <td>5350.0</td>\n",
              "      <td>4.0</td>\n",
              "      <td>2006.0</td>\n",
              "      <td>1</td>\n",
              "      <td>22.0</td>\n",
              "      <td>2012.0</td>\n",
              "      <td>2</td>\n",
              "      <td>5</td>\n",
              "      <td>8</td>\n",
              "    </tr>\n",
              "    <tr>\n",
              "      <th>1</th>\n",
              "      <td>1115</td>\n",
              "      <td>3</td>\n",
              "      <td>2014-02-12</td>\n",
              "      <td>3982</td>\n",
              "      <td>319</td>\n",
              "      <td>1</td>\n",
              "      <td>0</td>\n",
              "      <td>0</td>\n",
              "      <td>0</td>\n",
              "      <td>3</td>\n",
              "      <td>2</td>\n",
              "      <td>5350.0</td>\n",
              "      <td>4.0</td>\n",
              "      <td>2006.0</td>\n",
              "      <td>1</td>\n",
              "      <td>22.0</td>\n",
              "      <td>2012.0</td>\n",
              "      <td>2</td>\n",
              "      <td>6</td>\n",
              "      <td>7</td>\n",
              "    </tr>\n",
              "    <tr>\n",
              "      <th>2</th>\n",
              "      <td>1115</td>\n",
              "      <td>7</td>\n",
              "      <td>2013-08-18</td>\n",
              "      <td>0</td>\n",
              "      <td>0</td>\n",
              "      <td>0</td>\n",
              "      <td>0</td>\n",
              "      <td>0</td>\n",
              "      <td>0</td>\n",
              "      <td>3</td>\n",
              "      <td>2</td>\n",
              "      <td>5350.0</td>\n",
              "      <td>4.0</td>\n",
              "      <td>2006.0</td>\n",
              "      <td>1</td>\n",
              "      <td>22.0</td>\n",
              "      <td>2012.0</td>\n",
              "      <td>2</td>\n",
              "      <td>3</td>\n",
              "      <td>1</td>\n",
              "    </tr>\n",
              "    <tr>\n",
              "      <th>3</th>\n",
              "      <td>1115</td>\n",
              "      <td>3</td>\n",
              "      <td>2014-12-31</td>\n",
              "      <td>3847</td>\n",
              "      <td>290</td>\n",
              "      <td>1</td>\n",
              "      <td>0</td>\n",
              "      <td>0</td>\n",
              "      <td>1</td>\n",
              "      <td>3</td>\n",
              "      <td>2</td>\n",
              "      <td>5350.0</td>\n",
              "      <td>4.0</td>\n",
              "      <td>2006.0</td>\n",
              "      <td>1</td>\n",
              "      <td>22.0</td>\n",
              "      <td>2012.0</td>\n",
              "      <td>2</td>\n",
              "      <td>6</td>\n",
              "      <td>6</td>\n",
              "    </tr>\n",
              "    <tr>\n",
              "      <th>4</th>\n",
              "      <td>1115</td>\n",
              "      <td>3</td>\n",
              "      <td>2014-04-09</td>\n",
              "      <td>4531</td>\n",
              "      <td>322</td>\n",
              "      <td>1</td>\n",
              "      <td>0</td>\n",
              "      <td>0</td>\n",
              "      <td>0</td>\n",
              "      <td>3</td>\n",
              "      <td>2</td>\n",
              "      <td>5350.0</td>\n",
              "      <td>4.0</td>\n",
              "      <td>2006.0</td>\n",
              "      <td>1</td>\n",
              "      <td>22.0</td>\n",
              "      <td>2012.0</td>\n",
              "      <td>2</td>\n",
              "      <td>6</td>\n",
              "      <td>0</td>\n",
              "    </tr>\n",
              "  </tbody>\n",
              "</table>\n",
              "</div>"
            ],
            "text/plain": [
              "   Store  DayOfWeek        Date  Sales  Customers  Open  Promo  StateHoliday  \\\n",
              "0   1115          2  2013-01-01      0          0     0      0             1   \n",
              "1   1115          3  2014-02-12   3982        319     1      0             0   \n",
              "2   1115          7  2013-08-18      0          0     0      0             0   \n",
              "3   1115          3  2014-12-31   3847        290     1      0             0   \n",
              "4   1115          3  2014-04-09   4531        322     1      0             0   \n",
              "\n",
              "   SchoolHoliday  StoreType  Assortment  CompetitionDistance  \\\n",
              "0              1          3           2               5350.0   \n",
              "1              0          3           2               5350.0   \n",
              "2              0          3           2               5350.0   \n",
              "3              1          3           2               5350.0   \n",
              "4              0          3           2               5350.0   \n",
              "\n",
              "   CompetitionOpenSinceMonth  CompetitionOpenSinceYear  Promo2  \\\n",
              "0                        4.0                    2006.0       1   \n",
              "1                        4.0                    2006.0       1   \n",
              "2                        4.0                    2006.0       1   \n",
              "3                        4.0                    2006.0       1   \n",
              "4                        4.0                    2006.0       1   \n",
              "\n",
              "   Promo2SinceWeek  Promo2SinceYear  PromoInterval  DayOfWeekName  MonthName  \n",
              "0             22.0           2012.0              2              5          8  \n",
              "1             22.0           2012.0              2              6          7  \n",
              "2             22.0           2012.0              2              3          1  \n",
              "3             22.0           2012.0              2              6          6  \n",
              "4             22.0           2012.0              2              6          0  "
            ]
          },
          "execution_count": 27,
          "metadata": {},
          "output_type": "execute_result"
        }
      ],
      "source": [
        "sales_data.head()"
      ]
    },
    {
      "attachments": {},
      "cell_type": "markdown",
      "metadata": {
        "id": "p8BfKh2pkQlr"
      },
      "source": [
        "# Splitting into train and test dataset form training."
      ]
    },
    {
      "cell_type": "code",
      "execution_count": 134,
      "metadata": {
        "id": "T4HQT1UkCRg4"
      },
      "outputs": [],
      "source": [
        "X = sales_data.drop(columns=['Store','Date','Sales', 'Promo2', 'Open', 'CompetitionOpenSinceYear','DayOfWeekName' ,'Promo2SinceYear'])\n",
        "y = sales_data['Sales']"
      ]
    },
    {
      "cell_type": "code",
      "execution_count": 135,
      "metadata": {},
      "outputs": [
        {
          "data": {
            "text/html": [
              "<div>\n",
              "<style scoped>\n",
              "    .dataframe tbody tr th:only-of-type {\n",
              "        vertical-align: middle;\n",
              "    }\n",
              "\n",
              "    .dataframe tbody tr th {\n",
              "        vertical-align: top;\n",
              "    }\n",
              "\n",
              "    .dataframe thead th {\n",
              "        text-align: right;\n",
              "    }\n",
              "</style>\n",
              "<table border=\"1\" class=\"dataframe\">\n",
              "  <thead>\n",
              "    <tr style=\"text-align: right;\">\n",
              "      <th></th>\n",
              "      <th>DayOfWeek</th>\n",
              "      <th>Customers</th>\n",
              "      <th>Promo</th>\n",
              "      <th>StateHoliday</th>\n",
              "      <th>SchoolHoliday</th>\n",
              "      <th>StoreType</th>\n",
              "      <th>Assortment</th>\n",
              "      <th>CompetitionDistance</th>\n",
              "      <th>CompetitionOpenSinceMonth</th>\n",
              "      <th>Promo2SinceWeek</th>\n",
              "      <th>PromoInterval</th>\n",
              "      <th>MonthName</th>\n",
              "    </tr>\n",
              "  </thead>\n",
              "  <tbody>\n",
              "    <tr>\n",
              "      <th>0</th>\n",
              "      <td>2</td>\n",
              "      <td>0</td>\n",
              "      <td>0</td>\n",
              "      <td>1</td>\n",
              "      <td>1</td>\n",
              "      <td>3</td>\n",
              "      <td>2</td>\n",
              "      <td>5350.0</td>\n",
              "      <td>4.0</td>\n",
              "      <td>22.0</td>\n",
              "      <td>2</td>\n",
              "      <td>8</td>\n",
              "    </tr>\n",
              "    <tr>\n",
              "      <th>1</th>\n",
              "      <td>3</td>\n",
              "      <td>319</td>\n",
              "      <td>0</td>\n",
              "      <td>0</td>\n",
              "      <td>0</td>\n",
              "      <td>3</td>\n",
              "      <td>2</td>\n",
              "      <td>5350.0</td>\n",
              "      <td>4.0</td>\n",
              "      <td>22.0</td>\n",
              "      <td>2</td>\n",
              "      <td>7</td>\n",
              "    </tr>\n",
              "  </tbody>\n",
              "</table>\n",
              "</div>"
            ],
            "text/plain": [
              "   DayOfWeek  Customers  Promo  StateHoliday  SchoolHoliday  StoreType  \\\n",
              "0          2          0      0             1              1          3   \n",
              "1          3        319      0             0              0          3   \n",
              "\n",
              "   Assortment  CompetitionDistance  CompetitionOpenSinceMonth  \\\n",
              "0           2               5350.0                        4.0   \n",
              "1           2               5350.0                        4.0   \n",
              "\n",
              "   Promo2SinceWeek  PromoInterval  MonthName  \n",
              "0             22.0              2          8  \n",
              "1             22.0              2          7  "
            ]
          },
          "execution_count": 135,
          "metadata": {},
          "output_type": "execute_result"
        }
      ],
      "source": [
        "X.head(2)"
      ]
    },
    {
      "cell_type": "code",
      "execution_count": 137,
      "metadata": {},
      "outputs": [
        {
          "data": {
            "text/plain": [
              "0       0\n",
              "1    3982\n",
              "2       0\n",
              "3    3847\n",
              "4    4531\n",
              "Name: Sales, dtype: int64"
            ]
          },
          "execution_count": 137,
          "metadata": {},
          "output_type": "execute_result"
        }
      ],
      "source": [
        "y.head()"
      ]
    },
    {
      "cell_type": "code",
      "execution_count": 171,
      "metadata": {
        "colab": {
          "base_uri": "https://localhost:8080/"
        },
        "id": "A7lAoV5em8T4",
        "outputId": "d9b53476-99de-462b-b070-86de9b1661ee"
      },
      "outputs": [
        {
          "name": "stdout",
          "output_type": "stream",
          "text": [
            "(823939, 12) (101721, 12) (823939,) (101721,) (91549, 12) (91549,)\n"
          ]
        },
        {
          "data": {
            "text/plain": [
              "17187"
            ]
          },
          "execution_count": 171,
          "metadata": {},
          "output_type": "execute_result"
        }
      ],
      "source": [
        "from sklearn.model_selection import train_test_split\n",
        "X_train, X_test, Y_train, Y_test = train_test_split(X, y, test_size=0.1, random_state=1)\n",
        "\n",
        "#Further divide training dataset into train and validation dataset with an 90:10 split\n",
        "X_train, X_val, Y_train, Y_val = train_test_split(X_train, Y_train,test_size=0.1,random_state=2018)\n",
        "print(X_train.shape, X_test.shape, Y_train.shape, Y_test.shape,X_val.shape, Y_val.shape)\n",
        "c=0\n",
        "for i in Y_test:\n",
        "  if i==0:\n",
        "    c=c+1\n",
        "c\n"
      ]
    },
    {
      "cell_type": "code",
      "execution_count": 159,
      "metadata": {},
      "outputs": [
        {
          "data": {
            "text/html": [
              "<div>\n",
              "<style scoped>\n",
              "    .dataframe tbody tr th:only-of-type {\n",
              "        vertical-align: middle;\n",
              "    }\n",
              "\n",
              "    .dataframe tbody tr th {\n",
              "        vertical-align: top;\n",
              "    }\n",
              "\n",
              "    .dataframe thead th {\n",
              "        text-align: right;\n",
              "    }\n",
              "</style>\n",
              "<table border=\"1\" class=\"dataframe\">\n",
              "  <thead>\n",
              "    <tr style=\"text-align: right;\">\n",
              "      <th></th>\n",
              "      <th>DayOfWeek</th>\n",
              "      <th>Customers</th>\n",
              "      <th>Promo</th>\n",
              "      <th>StateHoliday</th>\n",
              "      <th>SchoolHoliday</th>\n",
              "      <th>StoreType</th>\n",
              "      <th>Assortment</th>\n",
              "      <th>CompetitionDistance</th>\n",
              "      <th>CompetitionOpenSinceMonth</th>\n",
              "      <th>Promo2SinceWeek</th>\n",
              "      <th>PromoInterval</th>\n",
              "      <th>MonthName</th>\n",
              "    </tr>\n",
              "  </thead>\n",
              "  <tbody>\n",
              "    <tr>\n",
              "      <th>563263</th>\n",
              "      <td>1</td>\n",
              "      <td>923</td>\n",
              "      <td>1</td>\n",
              "      <td>0</td>\n",
              "      <td>1</td>\n",
              "      <td>0</td>\n",
              "      <td>0</td>\n",
              "      <td>990.0</td>\n",
              "      <td>9.0</td>\n",
              "      <td>40.0</td>\n",
              "      <td>1</td>\n",
              "      <td>5</td>\n",
              "    </tr>\n",
              "    <tr>\n",
              "      <th>491322</th>\n",
              "      <td>3</td>\n",
              "      <td>797</td>\n",
              "      <td>1</td>\n",
              "      <td>0</td>\n",
              "      <td>0</td>\n",
              "      <td>0</td>\n",
              "      <td>2</td>\n",
              "      <td>2270.0</td>\n",
              "      <td>4.0</td>\n",
              "      <td>35.0</td>\n",
              "      <td>2</td>\n",
              "      <td>6</td>\n",
              "    </tr>\n",
              "    <tr>\n",
              "      <th>679436</th>\n",
              "      <td>5</td>\n",
              "      <td>532</td>\n",
              "      <td>1</td>\n",
              "      <td>0</td>\n",
              "      <td>0</td>\n",
              "      <td>3</td>\n",
              "      <td>2</td>\n",
              "      <td>1970.0</td>\n",
              "      <td>7.0</td>\n",
              "      <td>45.0</td>\n",
              "      <td>0</td>\n",
              "      <td>9</td>\n",
              "    </tr>\n",
              "    <tr>\n",
              "      <th>128952</th>\n",
              "      <td>3</td>\n",
              "      <td>678</td>\n",
              "      <td>1</td>\n",
              "      <td>0</td>\n",
              "      <td>1</td>\n",
              "      <td>0</td>\n",
              "      <td>2</td>\n",
              "      <td>9630.0</td>\n",
              "      <td>9.0</td>\n",
              "      <td>14.0</td>\n",
              "      <td>1</td>\n",
              "      <td>4</td>\n",
              "    </tr>\n",
              "    <tr>\n",
              "      <th>191221</th>\n",
              "      <td>1</td>\n",
              "      <td>601</td>\n",
              "      <td>0</td>\n",
              "      <td>0</td>\n",
              "      <td>1</td>\n",
              "      <td>0</td>\n",
              "      <td>2</td>\n",
              "      <td>250.0</td>\n",
              "      <td>7.0</td>\n",
              "      <td>37.0</td>\n",
              "      <td>1</td>\n",
              "      <td>9</td>\n",
              "    </tr>\n",
              "    <tr>\n",
              "      <th>...</th>\n",
              "      <td>...</td>\n",
              "      <td>...</td>\n",
              "      <td>...</td>\n",
              "      <td>...</td>\n",
              "      <td>...</td>\n",
              "      <td>...</td>\n",
              "      <td>...</td>\n",
              "      <td>...</td>\n",
              "      <td>...</td>\n",
              "      <td>...</td>\n",
              "      <td>...</td>\n",
              "      <td>...</td>\n",
              "    </tr>\n",
              "    <tr>\n",
              "      <th>32116</th>\n",
              "      <td>4</td>\n",
              "      <td>814</td>\n",
              "      <td>1</td>\n",
              "      <td>0</td>\n",
              "      <td>0</td>\n",
              "      <td>0</td>\n",
              "      <td>0</td>\n",
              "      <td>2410.0</td>\n",
              "      <td>3.0</td>\n",
              "      <td>40.0</td>\n",
              "      <td>1</td>\n",
              "      <td>10</td>\n",
              "    </tr>\n",
              "    <tr>\n",
              "      <th>870220</th>\n",
              "      <td>1</td>\n",
              "      <td>486</td>\n",
              "      <td>0</td>\n",
              "      <td>0</td>\n",
              "      <td>0</td>\n",
              "      <td>3</td>\n",
              "      <td>2</td>\n",
              "      <td>5340.0</td>\n",
              "      <td>3.0</td>\n",
              "      <td>13.0</td>\n",
              "      <td>1</td>\n",
              "      <td>11</td>\n",
              "    </tr>\n",
              "    <tr>\n",
              "      <th>820653</th>\n",
              "      <td>1</td>\n",
              "      <td>716</td>\n",
              "      <td>1</td>\n",
              "      <td>0</td>\n",
              "      <td>1</td>\n",
              "      <td>2</td>\n",
              "      <td>0</td>\n",
              "      <td>3150.0</td>\n",
              "      <td>2.0</td>\n",
              "      <td>9.0</td>\n",
              "      <td>2</td>\n",
              "      <td>1</td>\n",
              "    </tr>\n",
              "    <tr>\n",
              "      <th>18471</th>\n",
              "      <td>6</td>\n",
              "      <td>552</td>\n",
              "      <td>0</td>\n",
              "      <td>0</td>\n",
              "      <td>0</td>\n",
              "      <td>0</td>\n",
              "      <td>0</td>\n",
              "      <td>690.0</td>\n",
              "      <td>6.0</td>\n",
              "      <td>14.0</td>\n",
              "      <td>1</td>\n",
              "      <td>2</td>\n",
              "    </tr>\n",
              "    <tr>\n",
              "      <th>932523</th>\n",
              "      <td>2</td>\n",
              "      <td>549</td>\n",
              "      <td>0</td>\n",
              "      <td>0</td>\n",
              "      <td>0</td>\n",
              "      <td>0</td>\n",
              "      <td>0</td>\n",
              "      <td>16690.0</td>\n",
              "      <td>10.0</td>\n",
              "      <td>14.0</td>\n",
              "      <td>1</td>\n",
              "      <td>8</td>\n",
              "    </tr>\n",
              "  </tbody>\n",
              "</table>\n",
              "<p>823939 rows × 12 columns</p>\n",
              "</div>"
            ],
            "text/plain": [
              "        DayOfWeek  Customers  Promo  StateHoliday  SchoolHoliday  StoreType  \\\n",
              "563263          1        923      1             0              1          0   \n",
              "491322          3        797      1             0              0          0   \n",
              "679436          5        532      1             0              0          3   \n",
              "128952          3        678      1             0              1          0   \n",
              "191221          1        601      0             0              1          0   \n",
              "...           ...        ...    ...           ...            ...        ...   \n",
              "32116           4        814      1             0              0          0   \n",
              "870220          1        486      0             0              0          3   \n",
              "820653          1        716      1             0              1          2   \n",
              "18471           6        552      0             0              0          0   \n",
              "932523          2        549      0             0              0          0   \n",
              "\n",
              "        Assortment  CompetitionDistance  CompetitionOpenSinceMonth  \\\n",
              "563263           0                990.0                        9.0   \n",
              "491322           2               2270.0                        4.0   \n",
              "679436           2               1970.0                        7.0   \n",
              "128952           2               9630.0                        9.0   \n",
              "191221           2                250.0                        7.0   \n",
              "...            ...                  ...                        ...   \n",
              "32116            0               2410.0                        3.0   \n",
              "870220           2               5340.0                        3.0   \n",
              "820653           0               3150.0                        2.0   \n",
              "18471            0                690.0                        6.0   \n",
              "932523           0              16690.0                       10.0   \n",
              "\n",
              "        Promo2SinceWeek  PromoInterval  MonthName  \n",
              "563263             40.0              1          5  \n",
              "491322             35.0              2          6  \n",
              "679436             45.0              0          9  \n",
              "128952             14.0              1          4  \n",
              "191221             37.0              1          9  \n",
              "...                 ...            ...        ...  \n",
              "32116              40.0              1         10  \n",
              "870220             13.0              1         11  \n",
              "820653              9.0              2          1  \n",
              "18471              14.0              1          2  \n",
              "932523             14.0              1          8  \n",
              "\n",
              "[823939 rows x 12 columns]"
            ]
          },
          "execution_count": 159,
          "metadata": {},
          "output_type": "execute_result"
        }
      ],
      "source": [
        "X_train"
      ]
    },
    {
      "cell_type": "code",
      "execution_count": 33,
      "metadata": {
        "colab": {
          "base_uri": "https://localhost:8080/"
        },
        "id": "L2QIpmFInO43",
        "outputId": "2dbba662-8ce9-4ed2-a189-43ee5082a3e1"
      },
      "outputs": [
        {
          "data": {
            "text/plain": [
              "0.9901259423512857"
            ]
          },
          "execution_count": 33,
          "metadata": {},
          "output_type": "execute_result"
        }
      ],
      "source": [
        "from xgboost import XGBRegressor\n",
        "model = XGBRegressor(max_depth=10)\n",
        "model.fit(X_train, Y_train)\n",
        "model.score(X_train, Y_train)"
      ]
    },
    {
      "cell_type": "code",
      "execution_count": 34,
      "metadata": {},
      "outputs": [
        {
          "name": "stdout",
          "output_type": "stream",
          "text": [
            "Average Sales : 5773.435011709602\n"
          ]
        }
      ],
      "source": [
        "#calculate the average score of the train dataset\n",
        "mean_sales = Y_train.mean()\n",
        "print(\"Average Sales :\",mean_sales)"
      ]
    },
    {
      "cell_type": "code",
      "execution_count": 56,
      "metadata": {},
      "outputs": [
        {
          "name": "stdout",
          "output_type": "stream",
          "text": [
            "MAE for Test Data: 2878.3486821370952\n"
          ]
        }
      ],
      "source": [
        "# Calculate the Mean Absolute Error on the test dataset\n",
        "print(\"MAE for Test Data:\",abs(Y_test - mean_sales).mean())"
      ]
    },
    {
      "cell_type": "code",
      "execution_count": 79,
      "metadata": {
        "colab": {
          "base_uri": "https://localhost:8080/"
        },
        "id": "fGiUn4KyngZS",
        "outputId": "4636c060-f8a1-4e6a-dd9c-da9dd55a7134"
      },
      "outputs": [
        {
          "name": "stdout",
          "output_type": "stream",
          "text": [
            "1/1 [==============================] - ETA: 0s"
          ]
        },
        {
          "name": "stdout",
          "output_type": "stream",
          "text": [
            "1/1 [==============================] - 0s 29ms/step\n"
          ]
        },
        {
          "data": {
            "text/plain": [
              "array([[3898.]], dtype=float32)"
            ]
          },
          "execution_count": 79,
          "metadata": {},
          "output_type": "execute_result"
        }
      ],
      "source": [
        "prediction_data = pd.DataFrame([[3,\t319\t,0\t,0,\t0,\t3\t,2\t,5350.00\t,4.00,\t22.00,\t2\t,5]],\n",
        "                               columns=X_train.columns)\n",
        "predictions = model.predict(prediction_data)\n",
        "predictions = np.around(predictions)\n",
        "predictions"
      ]
    },
    {
      "attachments": {},
      "cell_type": "markdown",
      "metadata": {
        "id": "ngq8xTE_kXV0"
      },
      "source": [
        "# Saving the model."
      ]
    },
    {
      "cell_type": "code",
      "execution_count": 133,
      "metadata": {
        "id": "sGN9PcBUsd8_"
      },
      "outputs": [],
      "source": [
        "import pickle\n",
        "filename = 'sales_prediction.sav'\n",
        "pickle.dump(model, open(filename, 'wb'))"
      ]
    },
    {
      "attachments": {},
      "cell_type": "markdown",
      "metadata": {},
      "source": [
        "# Deep Neural Network Architecture"
      ]
    },
    {
      "cell_type": "code",
      "execution_count": 1,
      "metadata": {},
      "outputs": [],
      "source": [
        "from keras.models import Sequential\n",
        "from keras.layers import Dense, Dropout"
      ]
    },
    {
      "attachments": {},
      "cell_type": "markdown",
      "metadata": {},
      "source": [
        "## Create Deep Neural Network Architecture"
      ]
    },
    {
      "cell_type": "code",
      "execution_count": 58,
      "metadata": {},
      "outputs": [],
      "source": [
        "model = Sequential()\n",
        "model.add(Dense(150,input_dim = 12,activation=\"relu\"))\n",
        "#The input_dim = 12, since the width of the training data= 12 (refer data engg section)\n",
        "model.add(Dense(1,activation = \"linear\"))"
      ]
    },
    {
      "cell_type": "code",
      "execution_count": 59,
      "metadata": {},
      "outputs": [],
      "source": [
        "#Configure the model\n",
        "model.compile(optimizer='adam',loss=\"mean_absolute_error\", metrics=[\"mean_absolute_error\"])"
      ]
    },
    {
      "cell_type": "code",
      "execution_count": 61,
      "metadata": {},
      "outputs": [
        {
          "name": "stdout",
          "output_type": "stream",
          "text": [
            "Epoch 1/10\n",
            "14305/14305 [==============================] - 34s 2ms/step - loss: 941.6269 - mean_absolute_error: 941.6269 - val_loss: 874.3391 - val_mean_absolute_error: 874.3391\n",
            "Epoch 2/10\n",
            "14305/14305 [==============================] - 30s 2ms/step - loss: 841.6354 - mean_absolute_error: 841.6354 - val_loss: 829.1855 - val_mean_absolute_error: 829.1855\n",
            "Epoch 3/10\n",
            "14305/14305 [==============================] - 37s 3ms/step - loss: 818.9661 - mean_absolute_error: 818.9661 - val_loss: 804.3301 - val_mean_absolute_error: 804.3301\n",
            "Epoch 4/10\n",
            "14305/14305 [==============================] - 35s 2ms/step - loss: 809.6284 - mean_absolute_error: 809.6284 - val_loss: 805.9605 - val_mean_absolute_error: 805.9605\n",
            "Epoch 5/10\n",
            "14305/14305 [==============================] - 32s 2ms/step - loss: 801.3658 - mean_absolute_error: 801.3658 - val_loss: 796.7094 - val_mean_absolute_error: 796.7094\n",
            "Epoch 6/10\n",
            "14305/14305 [==============================] - 29s 2ms/step - loss: 791.1501 - mean_absolute_error: 791.1501 - val_loss: 790.5478 - val_mean_absolute_error: 790.5478\n",
            "Epoch 7/10\n",
            "14305/14305 [==============================] - 31s 2ms/step - loss: 784.6284 - mean_absolute_error: 784.6284 - val_loss: 784.1168 - val_mean_absolute_error: 784.1168\n",
            "Epoch 8/10\n",
            "14305/14305 [==============================] - 32s 2ms/step - loss: 778.5113 - mean_absolute_error: 778.5113 - val_loss: 785.2333 - val_mean_absolute_error: 785.2333\n",
            "Epoch 9/10\n",
            "14305/14305 [==============================] - 35s 2ms/step - loss: 773.9277 - mean_absolute_error: 773.9277 - val_loss: 775.4048 - val_mean_absolute_error: 775.4048\n",
            "Epoch 10/10\n",
            "14305/14305 [==============================] - 42s 3ms/step - loss: 769.8832 - mean_absolute_error: 769.8832 - val_loss: 765.6901 - val_mean_absolute_error: 765.6901\n"
          ]
        },
        {
          "data": {
            "text/plain": [
              "<keras.callbacks.History at 0x2d7134139d0>"
            ]
          },
          "execution_count": 61,
          "metadata": {},
          "output_type": "execute_result"
        }
      ],
      "source": [
        "#Train the model\n",
        "model.fit(X_train.values,Y_train.values, validation_data=(X_test,Y_test),epochs=10,batch_size=64)"
      ]
    },
    {
      "attachments": {},
      "cell_type": "markdown",
      "metadata": {},
      "source": [
        "## Testing the Model Performance"
      ]
    },
    {
      "cell_type": "code",
      "execution_count": 62,
      "metadata": {},
      "outputs": [
        {
          "name": "stdout",
          "output_type": "stream",
          "text": [
            "3179/3179 [==============================] - 5s 1ms/step - loss: 765.6896 - mean_absolute_error: 765.6896\n",
            "Metric  loss : 765.69\n",
            "Metric  mean_absolute_error : 765.69\n"
          ]
        }
      ],
      "source": [
        "#Use the model's evaluate method to predict and evaluate the test datasets\n",
        "result = model.evaluate(X_test.values,Y_test.values)\n",
        "\n",
        "#Print the results\n",
        "for i in range(len(model.metrics_names)):\n",
        "    print(\"Metric \",model.metrics_names[i],\":\",str(round(result[i],2)))"
      ]
    },
    {
      "cell_type": "code",
      "execution_count": 63,
      "metadata": {},
      "outputs": [
        {
          "name": "stdout",
          "output_type": "stream",
          "text": [
            "Epoch 1/10\n",
            "14305/14305 [==============================] - 50s 3ms/step - loss: 1911825.2500 - mean_absolute_error: 884.5128 - val_loss: 1508523.7500 - val_mean_absolute_error: 794.2173\n",
            "Epoch 2/10\n",
            "14305/14305 [==============================] - 56s 4ms/step - loss: 1524399.6250 - mean_absolute_error: 800.7311 - val_loss: 1451463.6250 - val_mean_absolute_error: 775.6642\n",
            "Epoch 3/10\n",
            "14305/14305 [==============================] - 53s 4ms/step - loss: 1421564.3750 - mean_absolute_error: 776.6219 - val_loss: 1328931.3750 - val_mean_absolute_error: 757.6691\n",
            "Epoch 4/10\n",
            "14305/14305 [==============================] - 51s 4ms/step - loss: 1357906.6250 - mean_absolute_error: 760.8642 - val_loss: 1289601.0000 - val_mean_absolute_error: 743.9393\n",
            "Epoch 5/10\n",
            "14305/14305 [==============================] - 47s 3ms/step - loss: 1286185.6250 - mean_absolute_error: 742.8030 - val_loss: 1204431.7500 - val_mean_absolute_error: 731.1207\n",
            "Epoch 6/10\n",
            "14305/14305 [==============================] - 40s 3ms/step - loss: 1207158.2500 - mean_absolute_error: 720.2225 - val_loss: 1110423.7500 - val_mean_absolute_error: 689.1757\n",
            "Epoch 7/10\n",
            "14305/14305 [==============================] - 51s 4ms/step - loss: 1130204.1250 - mean_absolute_error: 697.2263 - val_loss: 1022368.0000 - val_mean_absolute_error: 663.8398\n",
            "Epoch 8/10\n",
            "14305/14305 [==============================] - 48s 3ms/step - loss: 1052360.3750 - mean_absolute_error: 676.1712 - val_loss: 1036203.3125 - val_mean_absolute_error: 673.7906\n",
            "Epoch 9/10\n",
            "14305/14305 [==============================] - 51s 4ms/step - loss: 995744.4375 - mean_absolute_error: 658.2067 - val_loss: 918634.6875 - val_mean_absolute_error: 633.9949\n",
            "Epoch 10/10\n",
            "14305/14305 [==============================] - 54s 4ms/step - loss: 939525.4375 - mean_absolute_error: 639.3527 - val_loss: 1687480.3750 - val_mean_absolute_error: 820.6729\n",
            "Metric  loss : 765.69\n",
            "Metric  mean_absolute_error : 765.69\n"
          ]
        }
      ],
      "source": [
        "model = Sequential()\n",
        "model.add(Dense(150,input_dim = 12,activation=\"relu\"))\n",
        "model.add(Dense(150,activation=\"relu\"))\n",
        "model.add(Dense(150,activation=\"relu\"))\n",
        "model.add(Dense(1,activation = \"linear\"))\n",
        "model.compile(optimizer='adam',loss=\"mean_squared_error\",metrics=[\"mean_absolute_error\"])\n",
        "history = model.fit(X_train,Y_train, validation_data=(X_test,\n",
        "Y_test),epochs=10,batch_size=64)\n",
        "#result = model.evaluate(x_test,y_test)\n",
        "for i in range(len(model.metrics_names)):\n",
        "    print(\"Metric \",model.metrics_names[i],\":\",str(round(result[i],2)))"
      ]
    },
    {
      "cell_type": "code",
      "execution_count": 64,
      "metadata": {},
      "outputs": [
        {
          "name": "stdout",
          "output_type": "stream",
          "text": [
            "3179/3179 [==============================] - 5s 2ms/step - loss: 1687479.5000 - mean_absolute_error: 820.6736\n",
            "Metric  loss : 1687479.5\n",
            "Metric  mean_absolute_error : 820.67\n"
          ]
        }
      ],
      "source": [
        "#Use the model's evaluate method to predict and evaluate the test datasets\n",
        "result = model.evaluate(X_test.values,Y_test.values)\n",
        "\n",
        "#Print the results\n",
        "for i in range(len(model.metrics_names)):\n",
        "    print(\"Metric \",model.metrics_names[i],\":\",str(round(result[i],2)))"
      ]
    },
    {
      "cell_type": "code",
      "execution_count": 154,
      "metadata": {},
      "outputs": [
        {
          "name": "stdout",
          "output_type": "stream",
          "text": [
            "Epoch 1/15\n",
            "12875/12875 [==============================] - 70s 5ms/step - loss: 1966754.0000 - mean_absolute_error: 899.6340 - val_loss: 1702972.5000 - val_mean_absolute_error: 862.9311\n",
            "Epoch 2/15\n",
            "12875/12875 [==============================] - 72s 6ms/step - loss: 1554909.6250 - mean_absolute_error: 807.5944 - val_loss: 1396341.1250 - val_mean_absolute_error: 772.5922\n",
            "Epoch 3/15\n",
            "12875/12875 [==============================] - 56s 4ms/step - loss: 1422821.2500 - mean_absolute_error: 777.9246 - val_loss: 1300064.5000 - val_mean_absolute_error: 749.1638\n",
            "Epoch 4/15\n",
            "12875/12875 [==============================] - 64s 5ms/step - loss: 1308024.7500 - mean_absolute_error: 749.2585 - val_loss: 1212267.8750 - val_mean_absolute_error: 716.7134\n",
            "Epoch 5/15\n",
            "12875/12875 [==============================] - 60s 5ms/step - loss: 1171810.2500 - mean_absolute_error: 712.6747 - val_loss: 1023409.6250 - val_mean_absolute_error: 672.2296\n",
            "Epoch 6/15\n",
            "12875/12875 [==============================] - 58s 5ms/step - loss: 1076462.0000 - mean_absolute_error: 683.0305 - val_loss: 990042.6250 - val_mean_absolute_error: 666.3522\n",
            "Epoch 7/15\n",
            "12875/12875 [==============================] - 61s 5ms/step - loss: 1001700.1250 - mean_absolute_error: 657.8829 - val_loss: 931195.0625 - val_mean_absolute_error: 635.3055\n",
            "Epoch 8/15\n",
            "12875/12875 [==============================] - 59s 5ms/step - loss: 944263.0625 - mean_absolute_error: 636.9183 - val_loss: 841807.5625 - val_mean_absolute_error: 602.0977\n",
            "Epoch 9/15\n",
            "12875/12875 [==============================] - 49s 4ms/step - loss: 892968.0000 - mean_absolute_error: 617.8453 - val_loss: 813024.6875 - val_mean_absolute_error: 587.7474\n",
            "Epoch 10/15\n",
            "12875/12875 [==============================] - 57s 4ms/step - loss: 854871.6875 - mean_absolute_error: 602.5989 - val_loss: 843738.5000 - val_mean_absolute_error: 593.7901\n",
            "Epoch 11/15\n",
            "12875/12875 [==============================] - 58s 4ms/step - loss: 820132.3750 - mean_absolute_error: 588.8644 - val_loss: 776911.4375 - val_mean_absolute_error: 559.1354\n",
            "Epoch 12/15\n",
            "12875/12875 [==============================] - 69s 5ms/step - loss: 797344.2500 - mean_absolute_error: 579.2714 - val_loss: 986919.9375 - val_mean_absolute_error: 640.8530\n",
            "Epoch 13/15\n",
            "12875/12875 [==============================] - 75s 6ms/step - loss: 762283.1875 - mean_absolute_error: 566.1463 - val_loss: 712148.6875 - val_mean_absolute_error: 556.5461\n",
            "Epoch 14/15\n",
            "12875/12875 [==============================] - 69s 5ms/step - loss: 732822.6875 - mean_absolute_error: 553.7585 - val_loss: 734872.5625 - val_mean_absolute_error: 553.1385\n",
            "Epoch 15/15\n",
            "12875/12875 [==============================] - 51s 4ms/step - loss: 710097.8750 - mean_absolute_error: 544.5241 - val_loss: 676791.6875 - val_mean_absolute_error: 530.8631\n",
            "3179/3179 [==============================] - 6s 2ms/step - loss: 670311.1875 - mean_absolute_error: 530.2799\n",
            "Metric  loss : 670311.19\n",
            "Metric  mean_absolute_error : 530.28\n"
          ]
        }
      ],
      "source": [
        "\n",
        "model = Sequential()\n",
        "model.add(Dense(150,input_dim = 12,activation=\"relu\"))\n",
        "model.add(Dense(150,activation=\"relu\"))\n",
        "model.add(Dense(150,activation=\"relu\"))\n",
        "model.add(Dense(150,activation=\"relu\"))\n",
        "model.add(Dense(150,activation=\"relu\"))\n",
        "model.add(Dense(1,activation = \"linear\"))\n",
        "model.compile(optimizer='adam',loss=\"mean_squared_error\",metrics=[\"mean_absolute_error\"])\n",
        "model.fit(X_train,Y_train, validation_data=(X_val,Y_val),\n",
        "epochs=15,batch_size=64, callbacks=[history])\n",
        "result = model.evaluate(X_test, Y_test)\n",
        "for i in range(len(model.metrics_names)):\n",
        "    print(\"Metric \",model.metrics_names[i],\":\",str(round(result[i],2)))"
      ]
    },
    {
      "cell_type": "markdown",
      "metadata": {},
      "source": [
        "## Plotting the Loss Metric Across Epochs"
      ]
    },
    {
      "cell_type": "code",
      "execution_count": 155,
      "metadata": {},
      "outputs": [
        {
          "data": {
            "image/png": "[encoded data removed]",
            "text/plain": [
              "<Figure size 640x480 with 1 Axes>"
            ]
          },
          "metadata": {},
          "output_type": "display_data"
        }
      ],
      "source": [
        "import matplotlib.pyplot as plt\n",
        "plt.plot(history.history['loss'])\n",
        "plt.plot(history.history['val_loss'])\n",
        "plt.title(\"Model's Training & Validation loss across epochs\")\n",
        "plt.ylabel('Loss')\n",
        "plt.xlabel('Epochs')\n",
        "plt.legend(['Train', 'Validation'], loc='upper right')\n",
        "plt.show()"
      ]
    },
    {
      "cell_type": "markdown",
      "metadata": {},
      "source": [
        "## Testing the Model Manually"
      ]
    },
    {
      "cell_type": "code",
      "execution_count": 172,
      "metadata": {},
      "outputs": [
        {
          "data": {
            "text/plain": [
              "985837     6555\n",
              "462798     3987\n",
              "756833        0\n",
              "83457      5912\n",
              "250151        0\n",
              "          ...  \n",
              "86977     11268\n",
              "315303     5149\n",
              "150318     7586\n",
              "943609     5606\n",
              "966318        0\n",
              "Name: Sales, Length: 101721, dtype: int64"
            ]
          },
          "execution_count": 172,
          "metadata": {},
          "output_type": "execute_result"
        }
      ],
      "source": [
        "Y_test"
      ]
    },
    {
      "cell_type": "code",
      "execution_count": 175,
      "metadata": {},
      "outputs": [
        {
          "name": "stdout",
          "output_type": "stream",
          "text": [
            "3179/3179 [==============================] - 7s 2ms/step\n"
          ]
        }
      ],
      "source": [
        "# Lấy dự đoán từ model\n",
        "predictions = model.predict(X_test)\n",
        "\n",
        "# Tạo một bản sao của Y_test\n",
        "df = Y_test.copy()\n",
        "\n",
        "# Convert Y_test Series to DataFrame\n",
        "df = pd.DataFrame({'Actual Sales': Y_test})\n",
        "\n",
        "# Add the predicted values as a new column\n",
        "df['Predicted Sales'] = predictions.flatten()"
      ]
    },
    {
      "cell_type": "code",
      "execution_count": 176,
      "metadata": {},
      "outputs": [
        {
          "name": "stdout",
          "output_type": "stream",
          "text": [
            "        Actual Sales  Predicted Sales\n",
            "985837          6555      5906.072754\n",
            "462798          3987      4106.575195\n",
            "756833             0         0.558736\n",
            "83457           5912      6970.317871\n",
            "250151             0         0.558736\n",
            "...              ...              ...\n",
            "86977          11268     12207.331055\n",
            "315303          5149      4219.239258\n",
            "150318          7586      8624.605469\n",
            "943609          5606      5087.930664\n",
            "966318             0         0.558736\n",
            "\n",
            "[101721 rows x 2 columns]\n"
          ]
        }
      ],
      "source": [
        "# Display the DataFrame\n",
        "print(df)"
      ]
    },
    {
      "cell_type": "code",
      "execution_count": 178,
      "metadata": {},
      "outputs": [
        {
          "name": "stdout",
          "output_type": "stream",
          "text": [
            "MSE: 670312.0540400393\n",
            "MAE: 530.280434065432\n"
          ]
        }
      ],
      "source": [
        "# Calculate and print the MSE and MAE\n",
        "mse = mean_squared_error(df['Actual Sales'], df['Predicted Sales'])\n",
        "mae = mean_absolute_error(df['Actual Sales'], df['Predicted Sales'])\n",
        "print(\"MSE:\", mse)\n",
        "print(\"MAE:\", mae)"
      ]
    },
    {
      "cell_type": "code",
      "execution_count": 156,
      "metadata": {},
      "outputs": [],
      "source": [
        "# Lưu mô hình\n",
        "model.save(\"model.h5\")\n",
        "\n",
        "\n"
      ]
    },
    {
      "cell_type": "code",
      "execution_count": 3,
      "metadata": {},
      "outputs": [],
      "source": [
        "from keras.models import load_model\n",
        "# Tải mô hình đã lưu\n",
        "model = load_model(\"model.h5\")"
      ]
    },
    {
      "cell_type": "code",
      "execution_count": 5,
      "metadata": {},
      "outputs": [
        {
          "name": "stdout",
          "output_type": "stream",
          "text": [
            "Model: \"sequential_18\"\n",
            "_________________________________________________________________\n",
            " Layer (type)                Output Shape              Param #   \n",
            "=================================================================\n",
            " dense_92 (Dense)            (None, 150)               1950      \n",
            "                                                                 \n",
            " dense_93 (Dense)            (None, 150)               22650     \n",
            "                                                                 \n",
            " dense_94 (Dense)            (None, 150)               22650     \n",
            "                                                                 \n",
            " dense_95 (Dense)            (None, 150)               22650     \n",
            "                                                                 \n",
            " dense_96 (Dense)            (None, 150)               22650     \n",
            "                                                                 \n",
            " dense_97 (Dense)            (None, 1)                 151       \n",
            "                                                                 \n",
            "=================================================================\n",
            "Total params: 92,701\n",
            "Trainable params: 92,701\n",
            "Non-trainable params: 0\n",
            "_________________________________________________________________\n"
          ]
        }
      ],
      "source": [
        "model.summary()"
      ]
    }
  ],
  "metadata": {
    "colab": {
      "collapsed_sections": [],
      "name": "Sales_Prediction.ipynb",
      "provenance": []
    },
    "kernelspec": {
      "display_name": "Python 3",
      "name": "python3"
    },
    "language_info": {
      "codemirror_mode": {
        "name": "ipython",
        "version": 3
      },
      "file_extension": ".py",
      "mimetype": "text/x-python",
      "name": "python",
      "nbconvert_exporter": "python",
      "pygments_lexer": "ipython3",
      "version": "3.11.3"
    }
  },
  "nbformat": 4,
  "nbformat_minor": 0
}
